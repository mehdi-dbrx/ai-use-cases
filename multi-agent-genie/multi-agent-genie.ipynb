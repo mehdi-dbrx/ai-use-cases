{
 "cells": [
  {
   "cell_type": "markdown",
   "metadata": {
    "application/vnd.databricks.v1+cell": {
     "cellMetadata": {
      "byteLimit": 2048000,
      "rowLimit": 10000
     },
     "inputWidgets": {},
     "nuid": "ae2ef0d2-0c53-45d3-9b2f-281ac1bcd43d",
     "showTitle": false,
     "tableResultSettingsMap": {},
     "title": ""
    }
   },
   "source": [
    "# Multi-agent system with Genie on Databricks\n",
    "\n",
    "This notebook demonstrates how to build a multi-agent system using Mosaic AI Agent Framework and [LangGraph](https://blog.langchain.dev/langgraph-multi-agent-workflows/), where [Genie](https://www.databricks.com/product/ai-bi/genie) is one of the agents.\n",
    "In this notebook, you:\n",
    "1. Author a multi-agent system using LangGraph.\n",
    "1. Wrap the LangGraph agent with MLflow `ChatAgent` to ensure compatibility with Databricks features.\n",
    "1. Manually test the multi-agent system's output.\n",
    "1. Log and deploy the multi-agent system.\n",
    "\n",
    "This example is based on the article [Use Genie in multi-agent systems](https://docs.databricks.com/aws/en/generative-ai/agent-framework/multi-agent-genie)\n",
    "\n",
    "## Why use a Genie agent?\n",
    "\n",
    "Multi-agent systems consist of multiple AI agents working together, each with specialized capabilities. As one of those agents, Genie allows users to interact with their structured data using natural language.\n",
    "\n",
    "Unlike SQL functions which can only run pre-defined queries, Genie has the flexibility to create novel queries to answer user questions.\n",
    "\n",
    "## Prerequisites\n",
    "\n",
    "- Address all `TODO`s in this notebook.\n",
    "- Create a Genie Space, see Databricks documentation ([AWS](https://docs.databricks.com/aws/genie/set-up) | [Azure](https://learn.microsoft.com/azure/databricks/genie/set-up))."
   ]
  },
  {
   "cell_type": "code",
   "execution_count": 0,
   "metadata": {
    "application/vnd.databricks.v1+cell": {
     "cellMetadata": {
      "byteLimit": 2048000,
      "rowLimit": 10000
     },
     "inputWidgets": {},
     "nuid": "fad5bdf5-8ab6-40ad-8b7f-71589b07dde4",
     "showTitle": false,
     "tableResultSettingsMap": {},
     "title": ""
    }
   },
   "outputs": [],
   "source": [
    "%pip install -U -qqq mlflow langgraph==0.3.4 databricks-langchain databricks-agents uv\n",
    "dbutils.library.restartPython()"
   ]
  },
  {
   "cell_type": "markdown",
   "metadata": {
    "application/vnd.databricks.v1+cell": {
     "cellMetadata": {
      "byteLimit": 2048000,
      "rowLimit": 10000
     },
     "inputWidgets": {},
     "nuid": "7d402207-8884-456d-8e29-dce582e48dd2",
     "showTitle": false,
     "tableResultSettingsMap": {},
     "title": ""
    }
   },
   "source": [
    "\n",
    "## Define the multi-agent system\n",
    "\n",
    "Create a multi-agent system in LangGraph using a supervisor agent node directing the following agent nodes:\n",
    "- **GenieAgent**: The Genie agent that queries and reasons over structured data.\n",
    "- **Tool-calling agent**: An agent that calls Unity Catalog function tools.\n",
    "\n",
    "In this example, the tool-calling agent uses the built-in Unity Catalog function `system.ai.python_exec` to execute Python code.\n",
    "For examples of other tools you can add to your agents, see Databricks documentation ([AWS](https://docs.databricks.com/aws/generative-ai/agent-framework/agent-tool) | [Azure](https://learn.microsoft.com/en-us/azure/databricks/generative-ai/agent-framework/agent-tool)).\n",
    "\n",
    "\n",
    "#### Wrap the LangGraph agent using the `ChatAgent` interface\n",
    "\n",
    "Databricks recommends using `ChatAgent` to ensure compatibility with Databricks AI features and to simplify authoring multi-turn conversational agents using an open source standard. \n",
    "\n",
    "The `LangGraphChatAgent` class implements the `ChatAgent` interface to wrap the LangGraph agent.\n",
    "\n",
    "See MLflow's [ChatAgent documentation](https://mlflow.org/docs/latest/python_api/mlflow.pyfunc.html#mlflow.pyfunc.ChatAgent).\n",
    "\n",
    "#### Write agent code to file\n",
    "\n",
    "Define the agent code in a single cell below. This lets you write the agent code to a local Python file, using the `%%writefile` magic command, for subsequent logging and deployment.\n"
   ]
  },
  {
   "cell_type": "code",
   "execution_count": 0,
   "metadata": {
    "application/vnd.databricks.v1+cell": {
     "cellMetadata": {
      "byteLimit": 2048000,
      "rowLimit": 10000
     },
     "inputWidgets": {},
     "nuid": "a89ad7a6-599d-46a9-9f09-b149e4651c87",
     "showTitle": false,
     "tableResultSettingsMap": {},
     "title": ""
    }
   },
   "outputs": [],
   "source": [
    "%%writefile agent.py\n",
    "import functools\n",
    "import os\n",
    "from typing import Any, Generator, Literal, Optional\n",
    "\n",
    "import mlflow\n",
    "from databricks.sdk import WorkspaceClient\n",
    "from databricks_langchain import (\n",
    "    ChatDatabricks,\n",
    "    UCFunctionToolkit,\n",
    ")\n",
    "from databricks_langchain.genie import GenieAgent\n",
    "from langchain_core.runnables import RunnableLambda\n",
    "from langgraph.graph import END, StateGraph\n",
    "from langgraph.graph.state import CompiledStateGraph\n",
    "from langgraph.prebuilt import create_react_agent\n",
    "from mlflow.langchain.chat_agent_langgraph import ChatAgentState\n",
    "from mlflow.pyfunc import ChatAgent\n",
    "from mlflow.types.agent import (\n",
    "    ChatAgentChunk,\n",
    "    ChatAgentMessage,\n",
    "    ChatAgentResponse,\n",
    "    ChatContext,\n",
    ")\n",
    "from pydantic import BaseModel\n",
    "\n",
    "####################################################\n",
    "## Create a GenieAgent with access to a Genie Space\n",
    "####################################################\n",
    "\n",
    "# add GENIE_SPACE_ID and a description for this space\n",
    "# You can find the ID in the URL of the genie room /genie/rooms/<GENIE_SPACE_ID>\n",
    "GENIE_SPACE_ID = \"insert-your-genie_space_id\" \n",
    "genie_agent_description = \"This genie agent can answer FinOPS Questions\"\n",
    "\n",
    "#genie_agent = GenieAgent(\n",
    "#    genie_space_id=\"01efee82a8a815e785e78a90b62e7cfc\",\n",
    "#    genie_agent_name=\"Genie\",\n",
    "#    description=genie_agent_description,\n",
    " #   client=WorkspaceClient(\n",
    " #       host=os.getenv(\"DB_MODEL_SERVING_HOST_URL\"),\n",
    " #       token=os.getenv(\"DATABRICKS_GENIE_PAT\"),\n",
    " #   ),\n",
    "#)\n",
    "\n",
    "# Initialize the agent without passing the description\n",
    "genie_agent = GenieAgent(\n",
    "    genie_space_id=\"01efee82a8a815e785e78a90b62e7cfc\",\n",
    "    genie_agent_name=\"Genie\",\n",
    "    client=WorkspaceClient(\n",
    "        host=os.getenv(\"DB_MODEL_SERVING_HOST_URL\"),\n",
    "        token=os.getenv(\"DATABRICKS_GENIE_PAT\"),\n",
    "    ),\n",
    ")\n",
    "\n",
    "\n",
    "############################################\n",
    "# Define your LLM endpoint and system prompt\n",
    "############################################\n",
    "\n",
    "# TODO: Replace with your model serving endpoint\n",
    "# multi-agent Genie works best with claude 3.7 or gpt 4o models.\n",
    "LLM_ENDPOINT_NAME = \"databricks-claude-3-7-sonnet\"\n",
    "llm = ChatDatabricks(endpoint=LLM_ENDPOINT_NAME)\n",
    "\n",
    "###################################################\n",
    "## Create a SummarizeAgent using Claude 3.7 Sonnet\n",
    "###################################################\n",
    "class SummarizeAgent:\n",
    "    def __init__(self):\n",
    "        self.llm = ChatDatabricks(endpoint=LLM_ENDPOINT_NAME)\n",
    "\n",
    "    def invoke(self, state):\n",
    "        try:\n",
    "            # Find the most recent Genie message\n",
    "            genie_content = None\n",
    "            for msg in reversed(state[\"messages\"]):\n",
    "                if isinstance(msg, dict) and msg.get(\"name\") == \"Genie\":\n",
    "                    genie_content = msg.get(\"content\", \"\")\n",
    "                    break\n",
    "                elif hasattr(msg, \"name\") and getattr(msg, \"name\") == \"Genie\":\n",
    "                    genie_content = getattr(msg, \"content\", \"\")\n",
    "                    break\n",
    "\n",
    "            if not genie_content:\n",
    "                print(\"SummarizeAgent: No Genie content found\")\n",
    "                return {\n",
    "                    \"messages\": [\n",
    "                        {\n",
    "                            \"role\": \"assistant\",\n",
    "                            \"content\": \"No Genie response to summarize.\",\n",
    "                            \"name\": \"SummarizeAgent\",\n",
    "                        }\n",
    "                    ]\n",
    "                }\n",
    "\n",
    "            print(f\"SummarizeAgent: Found Genie content: {genie_content[:100]}...\")\n",
    "\n",
    "            # Ask Claude to summarize the Genie response\n",
    "            prompt = f\"\"\"\n",
    "            Please provide a concise summary of the following information:\n",
    "\n",
    "            {genie_content}\n",
    "\n",
    "            Guidelines:\n",
    "            1. Create a clear, bullet-point summary of the key points\n",
    "            2. Highlight the most important findings or conclusions\n",
    "            3. Use FinOPS terminology where appropriate and suggest Best practices\n",
    "            4. Avoid repeating the original text (use your own words)\n",
    "            5. Keep the summary to 3-5 bullet points\n",
    "            6. Preserve any critical numerical data\n",
    "            7. Use simple, direct language\n",
    "            \"\"\"\n",
    "            # Get Claude to generate the summary\n",
    "            messages = [{\"role\": \"user\", \"content\": prompt}]\n",
    "            response = self.llm.invoke(messages)\n",
    "            summary_content = response.content.strip()\n",
    "\n",
    "            print(f\"SummarizeAgent: Generated summary of length {len(summary_content)}\")\n",
    "\n",
    "            # Return the summary\n",
    "            return {\n",
    "                \"messages\": [\n",
    "                    {\n",
    "                        \"role\": \"assistant\",\n",
    "                        \"content\": f\"## Summary\\n\\n{summary_content}\",\n",
    "                        \"name\": \"SummarizeAgent\",\n",
    "                    }\n",
    "                ]\n",
    "            }\n",
    "        except Exception as e:\n",
    "            import traceback\n",
    "            print(f\"SummarizeAgent error: {e}\")\n",
    "            print(traceback.format_exc())\n",
    "            return {\n",
    "                \"messages\": [\n",
    "                    {\n",
    "                        \"role\": \"assistant\",\n",
    "                        \"content\": f\"I tried to create a summary but encountered an error: {str(e)}\",\n",
    "                        \"name\": \"SummarizeAgent\",\n",
    "                    }\n",
    "                ]\n",
    "            }\n",
    "\n",
    "# Define the summarize agent\n",
    "summarize_agent = SummarizeAgent()\n",
    "\n",
    "summarize_agent_description = \"The Summarize agent creates concise bullet-point summaries of the information provided by the Genie Agent.\"\n",
    "\n",
    "###################################################\n",
    "## Graph Agent using Claude 3.7 Sonnet\n",
    "###################################################\n",
    "class GraphAgent:\n",
    "    def __init__(self):\n",
    "        self.llm = ChatDatabricks(endpoint=LLM_ENDPOINT_NAME)\n",
    "\n",
    "    def invoke(self, state):\n",
    "        try:\n",
    "            # Find the most recent Genie message\n",
    "            genie_content = None\n",
    "            for msg in reversed(state[\"messages\"]):\n",
    "                if isinstance(msg, dict) and msg.get(\"name\") == \"Genie\":\n",
    "                    genie_content = msg.get(\"content\", \"\")\n",
    "                    break\n",
    "                elif hasattr(msg, \"name\") and getattr(msg, \"name\") == \"Genie\":\n",
    "                    genie_content = getattr(msg, \"content\", \"\")\n",
    "                    break\n",
    "\n",
    "            if not genie_content:\n",
    "                print(\"GraphAgent: No Genie content found\")\n",
    "                return {\n",
    "                    \"messages\": [\n",
    "                        {\n",
    "                            \"role\": \"assistant\",\n",
    "                            \"content\": \"No Genie response to visualize.\",\n",
    "                            \"name\": \"GraphAgent\",\n",
    "                        }\n",
    "                    ]\n",
    "                }\n",
    "\n",
    "            print(f\"GraphAgent: Found Genie content: {genie_content[:100]}...\")\n",
    "\n",
    "            # Ask Claude to generate an SVG visualization based on the Genie response\n",
    "            prompt = f\"\"\"\n",
    "            I need you to analyze this information and create an SVG visualization:\n",
    "\n",
    "            {genie_content}\n",
    "\n",
    "            Based on the numerical data in this text, create a simple visualization as an SVG image.\n",
    "\n",
    "            Guidelines:\n",
    "            1. Extract the key numerical data from the text\n",
    "            2. Choose an appropriate chart type (bar chart, pie chart, line graph, etc.)\n",
    "            3. Return ONLY a complete, valid SVG element that can be directly embedded in Markdown\n",
    "            4. The SVG should be self-contained with all styling included and can be displayed as html or markdown\n",
    "            5. Include appropriate labels, title, and legend if needed\n",
    "            6. Keep the SVG dimensions reasonable (around 600x400px)\n",
    "            7. Use clear, readable colors and fonts\n",
    "\n",
    "            Return ONLY the SVG code without any explanation, markdown formatting, or code blocks.\n",
    "            The response should start with <svg and end with </svg>.\n",
    "            \"\"\"\n",
    "\n",
    "            # Get Claude to generate the SVG\n",
    "            messages = [{\"role\": \"user\", \"content\": prompt}]\n",
    "            response = self.llm.invoke(messages)\n",
    "\n",
    "            # Extract content based on response type\n",
    "            if isinstance(response, dict):\n",
    "                svg_content = response.get(\"content\", \"\")\n",
    "            elif hasattr(response, \"content\"):\n",
    "                svg_content = response.content\n",
    "            else:\n",
    "                svg_content = str(response)\n",
    "\n",
    "            svg_content = svg_content.strip()\n",
    "\n",
    "            # Ensure we have valid SVG content\n",
    "            if not svg_content.startswith('<svg') or not svg_content.endswith('</svg>'):\n",
    "                print(\"GraphAgent: Invalid SVG generated, extracting SVG portion\")\n",
    "                # Try to extract just the SVG portion\n",
    "                import re\n",
    "                svg_match = re.search(r'<svg.*?</svg>', svg_content, re.DOTALL)\n",
    "                if svg_match:\n",
    "                    svg_content = svg_match.group(0)\n",
    "                else:\n",
    "                    print(\"GraphAgent: Could not extract SVG, using fallback\")\n",
    "                    # Fallback to a simple SVG if extraction fails\n",
    "                    svg_content = \"\"\"<svg width=\"600\" height=\"200\" xmlns=\"http://www.w3.org/2000/svg\">\n",
    "                        <rect width=\"100%\" height=\"100%\" fill=\"#f8f9fa\"/>\n",
    "                        <text x=\"50%\" y=\"50%\" font-family=\"Arial\" font-size=\"20\" text-anchor=\"middle\">\n",
    "                            Could not generate visualization from the data\n",
    "                        </text>\n",
    "                    </svg>\"\"\"\n",
    "\n",
    "            print(f\"GraphAgent: Generated SVG visualization of length {len(svg_content)}\")\n",
    "\n",
    "            # Create Python code that uses displayHTML to show the SVG\n",
    "            display_code = f\"\"\"\n",
    "                        # Display the SVG visualization\n",
    "                        displayHTML('''{svg_content}''')\n",
    "                        \"\"\"\n",
    "\n",
    "            # Return the code that uses displayHTML to render the SVG\n",
    "            return {\n",
    "                \"messages\": [\n",
    "                    {\n",
    "                        \"role\": \"assistant\",\n",
    "                        \"content\": f\"Here's a visualization based on the data:\\n\\n```python\\n{display_code}\\n```\",\n",
    "                        \"name\": \"GraphAgent\",\n",
    "                    }\n",
    "                ]\n",
    "            }\n",
    "        except Exception as e:\n",
    "            import traceback\n",
    "            print(f\"GraphAgent error: {e}\")\n",
    "            print(traceback.format_exc())\n",
    "            return {\n",
    "                \"messages\": [\n",
    "                    {\n",
    "                        \"role\": \"assistant\",\n",
    "                        \"content\": f\"I tried to create a visualization but encountered an error: {str(e)}\",\n",
    "                        \"name\": \"GraphAgent\",\n",
    "                    }\n",
    "                ]\n",
    "            }\n",
    "\n",
    "\n",
    "# Define the graph agent\n",
    "graph_agent = GraphAgent()\n",
    "\n",
    "graph_agent_description = \"The Graph agent generates graphs based on the output/answer from the Genie Agent. Try to generate grpah for each answer,if no graph is generated reply - Graph not available \"\n",
    "\n",
    "\n",
    "#############################\n",
    "# Define the supervisor agent\n",
    "#############################\n",
    "\n",
    "# TODO update the max number of iterations between supervisor and worker nodes\n",
    "# before returning to the user\n",
    "MAX_ITERATIONS = 3\n",
    "\n",
    "worker_descriptions = {\n",
    "    \"Genie\": genie_agent_description,\n",
    "    \"SummarizeAgent\": summarize_agent_description,\n",
    "    \"GraphAgent\": graph_agent_description\n",
    "}\n",
    "\n",
    "formatted_descriptions = \"\\n\".join(\n",
    "    f\"- {name}: {desc}\" for name, desc in worker_descriptions.items()\n",
    ")\n",
    "\n",
    "system_prompt = f\"\"\"Decide between routing between the following workers or ending the conversation if an answer is provided.\n",
    "{formatted_descriptions}\n",
    "\n",
    "IMPORTANT WORKFLOW:\n",
    "1. Route user questions about ITFM to the Genie agent first.\n",
    "2. After Genie responds, the GraphAgent should automatically visualize the data.\n",
    "3. After Genie responds, the SummarizeAgent should create a concise summary of the information.\n",
    "4. End the conversation with FINISH when the user's question has been fully answered.\n",
    "\"\"\"\n",
    "options = [\"FINISH\"] + list(worker_descriptions.keys())\n",
    "FINISH = {\"next_node\": \"FINISH\"}\n",
    "\n",
    "def supervisor_agent(state):\n",
    "    count = state.get(\"iteration_count\", 0) + 1\n",
    "    if count > MAX_ITERATIONS:\n",
    "        return FINISH\n",
    "\n",
    "    # Check if the last message was from Genie\n",
    "    last_message = state[\"messages\"][-1] if state[\"messages\"] else None\n",
    "    if last_message and last_message.get(\"name\") == \"Genie\":\n",
    "        # First route to GraphAgent\n",
    "        if not any(msg.get(\"name\") == \"GraphAgent\" for msg in state[\"messages\"]):\n",
    "            return {\"iteration_count\": count, \"next_node\": \"GraphAgent\"}\n",
    "        # Then route to SummarizeAgent\n",
    "        elif not any(msg.get(\"name\") == \"SummarizeAgent\" for msg in state[\"messages\"]):\n",
    "            return {\"iteration_count\": count, \"next_node\": \"SummarizeAgent\"}\n",
    "\n",
    "    class nextNode(BaseModel):\n",
    "        next_node: Literal[tuple(options)]\n",
    "\n",
    "    preprocessor = RunnableLambda(\n",
    "        lambda state: [{\"role\": \"system\", \"content\": system_prompt}] + state[\"messages\"]\n",
    "    )\n",
    "    supervisor_chain = preprocessor | llm.with_structured_output(nextNode)\n",
    "    next_node = supervisor_chain.invoke(state).next_node\n",
    "\n",
    "    # if routed back to the same node, exit the loop\n",
    "    if state.get(\"next_node\") == next_node:\n",
    "        return FINISH\n",
    "    return {\n",
    "        \"iteration_count\": count,\n",
    "        \"next_node\": next_node\n",
    "    }\n",
    "\n",
    "\n",
    "def agent_node(state, agent, name):\n",
    "    result = agent.invoke(state)\n",
    "\n",
    "    # Get the last message from the result\n",
    "    last_message = result[\"messages\"][-1]\n",
    "\n",
    "    # Extract content based on the message type\n",
    "    if isinstance(last_message, dict):\n",
    "        content = last_message.get(\"content\", \"\")\n",
    "    else:\n",
    "        content = getattr(last_message, \"content\", str(last_message))\n",
    "\n",
    "    return {\n",
    "        \"messages\": [\n",
    "            {\n",
    "                \"role\": \"assistant\",\n",
    "                \"content\": content,\n",
    "                \"name\": name,\n",
    "            }\n",
    "        ]\n",
    "    }    \n",
    "\n",
    "def final_answer(state):\n",
    "    prompt = \"Using only the content in the messages, respond to the previous user question using the answer given by the other assistant messages.\"\n",
    "    preprocessor = RunnableLambda(\n",
    "        lambda state: state[\"messages\"] + [{\"role\": \"user\", \"content\": prompt}]\n",
    "    )\n",
    "    final_answer_chain = preprocessor | llm\n",
    "    return {\"messages\": [final_answer_chain.invoke(state)]}\n",
    "\n",
    "\n",
    "class AgentState(ChatAgentState):\n",
    "    next_node: str\n",
    "    iteration_count: int\n",
    "\n",
    "#Defines AgentNodes\n",
    "summarize_node = functools.partial(agent_node, agent=summarize_agent, name=\"SummarizeAgent\")\n",
    "genie_node = functools.partial(agent_node, agent=genie_agent, name=\"Genie\")\n",
    "graph_node = functools.partial(agent_node, agent=graph_agent, name=\"GraphAgent\")\n",
    "\n",
    "#Update Workflow Compilations\n",
    "workflow = StateGraph(AgentState)\n",
    "workflow.add_node(\"Genie\", genie_node)\n",
    "workflow.add_node(\"SummarizeAgent\", summarize_node)\n",
    "workflow.add_node(\"GraphAgent\", graph_node)\n",
    "workflow.add_node(\"supervisor\", supervisor_agent)\n",
    "workflow.add_node(\"final_answer\", final_answer)\n",
    "\n",
    "workflow.set_entry_point(\"supervisor\")\n",
    "# We want our workers to ALWAYS \"report back\" to the supervisor when done\n",
    "for worker in worker_descriptions.keys():\n",
    "    workflow.add_edge(worker, \"supervisor\")\n",
    "\n",
    "# Let the supervisor decide which next node to go\n",
    "workflow.add_conditional_edges(\n",
    "    \"supervisor\",\n",
    "    lambda x: x[\"next_node\"],\n",
    "    {**{k: k for k in worker_descriptions.keys()}, \"FINISH\": \"final_answer\"},\n",
    ")\n",
    "workflow.add_edge(\"final_answer\", END)\n",
    "multi_agent = workflow.compile()\n",
    "\n",
    "###################################\n",
    "# Wrap our multi-agent in ChatAgent\n",
    "###################################\n",
    "class LangGraphChatAgent(ChatAgent):\n",
    "    def __init__(self, agent: CompiledStateGraph):\n",
    "        self.agent = agent\n",
    "\n",
    "    def predict(\n",
    "        self,\n",
    "        messages: list[ChatAgentMessage],\n",
    "        context: Optional[ChatContext] = None,\n",
    "        custom_inputs: Optional[dict[str, Any]] = None,\n",
    "    ) -> ChatAgentResponse:\n",
    "        request = {\n",
    "            \"messages\": [m.model_dump_compat(exclude_none=True) for m in messages]\n",
    "        }\n",
    "\n",
    "        messages = []\n",
    "        for event in self.agent.stream(request, stream_mode=\"updates\"):\n",
    "            for node_data in event.values():\n",
    "                messages.extend(\n",
    "                    ChatAgentMessage(**msg) for msg in node_data.get(\"messages\", [])\n",
    "                )\n",
    "        return ChatAgentResponse(messages=messages)\n",
    "\n",
    "\n",
    "    def predict_stream(\n",
    "        self,\n",
    "        messages: list[ChatAgentMessage],\n",
    "        context: Optional[ChatContext] = None,\n",
    "        custom_inputs: Optional[dict[str, Any]] = None,\n",
    "    ) -> Generator[ChatAgentChunk, None, None]:\n",
    "        request = {\n",
    "            \"messages\": [m.model_dump_compat(exclude_none=True) for m in messages]\n",
    "        }\n",
    "        for event in self.agent.stream(request, stream_mode=\"updates\"):\n",
    "            for node_data in event.values():\n",
    "                yield from (\n",
    "                    ChatAgentChunk(**{\"delta\": msg})\n",
    "                    for msg in node_data.get(\"messages\", [])\n",
    "                )\n",
    "\n",
    "\n",
    "# Create the agent object, and specify it as the agent object to use when\n",
    "# loading the agent back for inference via mlflow.models.set_model()\n",
    "mlflow.langchain.autolog()\n",
    "AGENT = LangGraphChatAgent(multi_agent)\n",
    "mlflow.models.set_model(AGENT)"
   ]
  },
  {
   "cell_type": "markdown",
   "metadata": {
    "application/vnd.databricks.v1+cell": {
     "cellMetadata": {
      "byteLimit": 2048000,
      "rowLimit": 10000
     },
     "inputWidgets": {},
     "nuid": "d0103f4c-4a1f-40ca-9f3d-28bcd1803ec2",
     "showTitle": false,
     "tableResultSettingsMap": {},
     "title": ""
    }
   },
   "source": [
    "## Test the agent\n",
    "\n",
    "Interact with the agent to test its output. Since this notebook called `mlflow.langchain.autolog()` you can view the trace for each step the agent takes.\n",
    "\n",
    "**TODO**: Replace this placeholder `input_example` with a domain-specific prompt for your agent."
   ]
  },
  {
   "cell_type": "markdown",
   "metadata": {
    "application/vnd.databricks.v1+cell": {
     "cellMetadata": {},
     "inputWidgets": {},
     "nuid": "a447d522-1c9c-4454-b1ed-fec2617e38a3",
     "showTitle": false,
     "tableResultSettingsMap": {},
     "title": ""
    }
   },
   "source": [
    "## Create a Personal Access Token (PAT) as a Databricks secret\n",
    "In order to access the Genie Space and its underlying resources, we need to create a PAT\n",
    "- This can either be your own PAT or that of a System Principal ([AWS](https://docs.databricks.com/aws/en/dev-tools/auth/oauth-m2m) | [Azure](https://learn.microsoft.com/en-us/azure/databricks/dev-tools/auth/oauth-m2m)). You will have to rotate this token yourself upon expiry.\n",
    "- Add secrets-based environment variables to a model serving endpoint ([AWS](https://docs.databricks.com/aws/en/machine-learning/model-serving/store-env-variable-model-serving#add-secrets-based-environment-variables) | [Azure](https://learn.microsoft.com/en-us/azure/databricks/machine-learning/model-serving/store-env-variable-model-serving#add-secrets-based-environment-variables)).\n",
    "- You can reference the table in the deploy docs for the right permissions level for each resource: ([AWS](https://docs.databricks.com/aws/en/generative-ai/agent-framework/deploy-agent#automatic-authentication-passthrough) | [Azure](https://learn.microsoft.com/en-us/azure/databricks/generative-ai/agent-framework/deploy-agent#automatic-authentication-passthrough)).\n",
    "  - Provision with `CAN RUN` on the Genie Space\n",
    "  - Provision with `CAN USE` on the SQL Warehouse powering the Genie Space\n",
    "  - Provision with `SELECT` on underlying Unity Catalog Tables \n",
    "  - Provision with `EXECUTE` on underyling Unity Catalog Functions "
   ]
  },
  {
   "cell_type": "code",
   "execution_count": 0,
   "metadata": {
    "application/vnd.databricks.v1+cell": {
     "cellMetadata": {
      "byteLimit": 2048000,
      "rowLimit": 10000
     },
     "inputWidgets": {},
     "nuid": "f0dba243-04bd-48d3-af32-6a6e420de856",
     "showTitle": false,
     "tableResultSettingsMap": {},
     "title": ""
    }
   },
   "outputs": [],
   "source": [
    "secret_scope_name = \"your-scope\"\n",
    "secret_key_name = \"your-pat-secret-name\"\n",
    "secretval = dbutils.secrets.get(scope=secret_scope_name, key=secret_key_name)"
   ]
  },
  {
   "cell_type": "code",
   "execution_count": 0,
   "metadata": {
    "application/vnd.databricks.v1+cell": {
     "cellMetadata": {
      "byteLimit": 2048000,
      "rowLimit": 10000
     },
     "inputWidgets": {},
     "nuid": "7d180a09-5243-4806-a7d3-e9a5664e730d",
     "showTitle": false,
     "tableResultSettingsMap": {},
     "title": ""
    }
   },
   "outputs": [],
   "source": [
    "import os\n",
    "from dbruntime.databricks_repl_context import get_context\n",
    "\n",
    "# TODO: set secret_scope_name and secret_key_name to access your PAT\n",
    "secret_scope_name = \"your-scope\"\n",
    "secret_key_name = \"your-pat-secret-name\"\n",
    "\n",
    "os.environ[\"DB_MODEL_SERVING_HOST_URL\"] = \"https://\" + get_context().workspaceUrl\n",
    "assert os.environ[\"DB_MODEL_SERVING_HOST_URL\"] is not None\n",
    "os.environ[\"DATABRICKS_GENIE_PAT\"] = dbutils.secrets.get(\n",
    "    scope=secret_scope_name, key=secret_key_name\n",
    ")\n",
    "assert os.environ[\"DATABRICKS_GENIE_PAT\"] is not None, (\n",
    "    \"The DATABRICKS_GENIE_PAT was not properly set to the PAT secret\"\n",
    ")"
   ]
  },
  {
   "cell_type": "code",
   "execution_count": 0,
   "metadata": {
    "application/vnd.databricks.v1+cell": {
     "cellMetadata": {
      "byteLimit": 2048000,
      "rowLimit": 10000
     },
     "inputWidgets": {},
     "nuid": "c505dcf9-247e-44d5-978c-01ca13c68820",
     "showTitle": false,
     "tableResultSettingsMap": {},
     "title": ""
    }
   },
   "outputs": [],
   "source": [
    "#genie_user_q=f\"\"\"Show me available Cost Models, with Amount Summary \"\"\"\n",
    "#genie_user_q=f\"\"\"Show me details for Actuals 2024 \"\"\"\n",
    "genie_user_q=f\"\"\"Summarize the cost for February 2024 \"\"\""
   ]
  },
  {
   "cell_type": "code",
   "execution_count": 0,
   "metadata": {
    "application/vnd.databricks.v1+cell": {
     "cellMetadata": {
      "byteLimit": 2048000,
      "rowLimit": 10000
     },
     "inputWidgets": {},
     "nuid": "da29b204-487c-4134-8396-fcaf0c50f02a",
     "showTitle": false,
     "tableResultSettingsMap": {},
     "title": ""
    }
   },
   "outputs": [],
   "source": [
    "from agent import AGENT\n",
    "\n",
    "#assert genie_agent_description != \"This genie agent can answer ...\", (\n",
    "#    \"Remember to update the genie agent description for higher quality answers.\"\n",
    "#)\n",
    "input_example = {\n",
    "    \"messages\": [\n",
    "        {\n",
    "            \"role\": \"user\",\n",
    "            \"content\": genie_user_q,\n",
    "        }\n",
    "    ]\n",
    "}\n",
    "# Access 'content' using the key in the dictionary\n",
    "AGENT.predict(input_example)"
   ]
  },
  {
   "cell_type": "code",
   "execution_count": 0,
   "metadata": {
    "application/vnd.databricks.v1+cell": {
     "cellMetadata": {
      "byteLimit": 2048000,
      "rowLimit": 10000
     },
     "inputWidgets": {},
     "nuid": "af022e19-a090-41fa-9c9a-d64c43ca334f",
     "showTitle": false,
     "tableResultSettingsMap": {},
     "title": ""
    }
   },
   "outputs": [],
   "source": [
    "for event in AGENT.predict_stream(input_example):\n",
    "  print(event, \"-----------\\n\")"
   ]
  },
  {
   "cell_type": "code",
   "execution_count": 0,
   "metadata": {
    "application/vnd.databricks.v1+cell": {
     "cellMetadata": {
      "byteLimit": 2048000,
      "rowLimit": 10000
     },
     "inputWidgets": {},
     "nuid": "d383f253-e06b-4982-9bfd-12dcfa7ee96b",
     "showTitle": false,
     "tableResultSettingsMap": {},
     "title": ""
    }
   },
   "outputs": [],
   "source": [
    "# Display the SVG visualization\n",
    "displayHTML('''<svg width=\"600\" height=\"400\" xmlns=\"http://www.w3.org/2000/svg\">\n",
    "    <style>\n",
    "        .bar { fill: #4285f4; }\n",
    "        .bar:hover { fill: #3b75d8; }\n",
    "        text { font-family: Arial, sans-serif; }\n",
    "        .title { font-size: 18px; font-weight: bold; }\n",
    "        .axis-label { font-size: 12px; }\n",
    "        .tick { font-size: 10px; }\n",
    "        .value { font-size: 11px; fill: white; font-weight: bold; }\n",
    "    </style>\n",
    "    \n",
    "    <rect width=\"600\" height=\"400\" fill=\"#f9f9f9\" />\n",
    "    \n",
    "    <text x=\"300\" y=\"30\" text-anchor=\"middle\" class=\"title\">Total Source Cost by Category</text>\n",
    "    \n",
    "    <!-- Y-axis -->\n",
    "    <line x1=\"100\" y1=\"50\" x2=\"100\" y2=\"350\" stroke=\"#333\" stroke-width=\"1\" />\n",
    "    <text x=\"50\" y=\"200\" text-anchor=\"middle\" transform=\"rotate(-90, 50, 200)\" class=\"axis-label\">Categories</text>\n",
    "    \n",
    "    <!-- X-axis -->\n",
    "    <line x1=\"100\" y1=\"350\" x2=\"550\" y2=\"350\" stroke=\"#333\" stroke-width=\"1\" />\n",
    "    <text x=\"325\" y=\"380\" text-anchor=\"middle\" class=\"axis-label\">Cost (in millions $)</text>\n",
    "    \n",
    "    <!-- X-axis ticks -->\n",
    "    <line x1=\"100\" y1=\"350\" x2=\"100\" y2=\"355\" stroke=\"#333\" stroke-width=\"1\" />\n",
    "    <text x=\"100\" y=\"365\" text-anchor=\"middle\" class=\"tick\">0</text>\n",
    "    \n",
    "    <line x1=\"190\" y1=\"350\" x2=\"190\" y2=\"355\" stroke=\"#333\" stroke-width=\"1\" />\n",
    "    <text x=\"190\" y=\"365\" text-anchor=\"middle\" class=\"tick\">2M</text>\n",
    "    \n",
    "    <line x1=\"280\" y1=\"350\" x2=\"280\" y2=\"355\" stroke=\"#333\" stroke-width=\"1\" />\n",
    "    <text x=\"280\" y=\"365\" text-anchor=\"middle\" class=\"tick\">4M</text>\n",
    "    \n",
    "    <line x1=\"370\" y1=\"350\" x2=\"370\" y2=\"355\" stroke=\"#333\" stroke-width=\"1\" />\n",
    "    <text x=\"370\" y=\"365\" text-anchor=\"middle\" class=\"tick\">6M</text>\n",
    "    \n",
    "    <line x1=\"460\" y1=\"350\" x2=\"460\" y2=\"355\" stroke=\"#333\" stroke-width=\"1\" />\n",
    "    <text x=\"460\" y=\"365\" text-anchor=\"middle\" class=\"tick\">8M</text>\n",
    "    \n",
    "    <line x1=\"550\" y1=\"350\" x2=\"550\" y2=\"355\" stroke=\"#333\" stroke-width=\"1\" />\n",
    "    <text x=\"550\" y=\"365\" text-anchor=\"middle\" class=\"tick\">10M</text>\n",
    "    \n",
    "    <!-- Bars -->\n",
    "    <g>\n",
    "        <rect x=\"100\" y=\"80\" width=\"450\" height=\"40\" class=\"bar\" />\n",
    "        <text x=\"105\" y=\"105\" fill=\"white\" class=\"value\">01. Cost Pools: $10.87M</text>\n",
    "    </g>\n",
    "    \n",
    "    <g>\n",
    "        <rect x=\"100\" y=\"140\" width=\"201\" height=\"40\" class=\"bar\" />\n",
    "        <text x=\"105\" y=\"165\" fill=\"white\" class=\"value\">02. Towers: $4.85M</text>\n",
    "    </g>\n",
    "    \n",
    "    <g>\n",
    "        <rect x=\"100\" y=\"200\" width=\"94\" height=\"40\" class=\"bar\" />\n",
    "        <text x=\"105\" y=\"225\" fill=\"white\" class=\"value\">03. Solutions: $2.26M</text>\n",
    "    </g>\n",
    "    \n",
    "    <g>\n",
    "        <rect x=\"100\" y=\"260\" width=\"94\" height=\"40\" class=\"bar\" />\n",
    "        <text x=\"105\" y=\"285\" fill=\"white\" class=\"value\">04. Business: $2.26M</text>\n",
    "    </g>\n",
    "</svg>''')"
   ]
  },
  {
   "cell_type": "markdown",
   "metadata": {
    "application/vnd.databricks.v1+cell": {
     "cellMetadata": {
      "byteLimit": 2048000,
      "rowLimit": 10000
     },
     "inputWidgets": {},
     "nuid": "299790ba-cd17-4f11-babc-1bc6d3c18cc5",
     "showTitle": false,
     "tableResultSettingsMap": {},
     "title": ""
    }
   },
   "source": [
    "## Log the agent as an MLflow model\n",
    "\n",
    "Log the agent as code from the `agent.py` file. See [MLflow - Models from Code](https://mlflow.org/docs/latest/models.html#models-from-code).\n",
    "\n",
    "### Enable automatic authentication for Databricks resources\n",
    "For the most common Databricks resource types, Databricks supports and recommends declaring resource dependencies for the agent upfront during logging. This enables automatic authentication passthrough when you deploy the agent. With automatic authentication passthrough, Databricks automatically provisions, rotates, and manages short-lived credentials to securely access these resource dependencies from within the agent endpoint.\n",
    "\n",
    "To enable automatic authentication, specify the dependent Databricks resources when calling `mlflow.pyfunc.log_model().`\n",
    "  - **TODO**: If your Unity Catalog tool queries a [vector search index](docs link) or leverages [external functions](docs link), you need to include the dependent vector search index and UC connection objects, respectively, as resources. See docs ([AWS](https://docs.databricks.com/generative-ai/agent-framework/log-agent.html#specify-resources-for-automatic-authentication-passthrough) | [Azure](https://learn.microsoft.com/azure/databricks/generative-ai/agent-framework/log-agent#resources))."
   ]
  },
  {
   "cell_type": "code",
   "execution_count": 0,
   "metadata": {
    "application/vnd.databricks.v1+cell": {
     "cellMetadata": {
      "byteLimit": 2048000,
      "rowLimit": 10000
     },
     "inputWidgets": {},
     "nuid": "54a7fdf0-d9a1-4d5b-ab3e-2044da70eaa1",
     "showTitle": false,
     "tableResultSettingsMap": {},
     "title": ""
    }
   },
   "outputs": [],
   "source": [
    "# Determine Databricks resources to specify for automatic auth passthrough at deployment time\n",
    "import mlflow\n",
    "#from agent import GENIE_SPACE_ID, LLM_ENDPOINT_NAME, tools\n",
    "from agent import GENIE_SPACE_ID, LLM_ENDPOINT_NAME\n",
    "from databricks_langchain import UnityCatalogTool, VectorSearchRetrieverTool\n",
    "from mlflow.models.resources import (\n",
    "    DatabricksFunction,\n",
    "    DatabricksGenieSpace,\n",
    "    DatabricksServingEndpoint,\n",
    ")\n",
    "from pkg_resources import get_distribution\n",
    "\n",
    "# TODO: Manually include underlying resources if needed. See the TODO in the markdown above for more information.\n",
    "resources = [\n",
    "    DatabricksServingEndpoint(endpoint_name=LLM_ENDPOINT_NAME),\n",
    "    DatabricksGenieSpace(genie_space_id=GENIE_SPACE_ID),\n",
    "]\n",
    "#for tool in tools:\n",
    "#    if isinstance(tool, VectorSearchRetrieverTool):\n",
    "#        resources.extend(tool.resources)\n",
    "#    elif isinstance(tool, UnityCatalogTool):\n",
    "#        resources.append(DatabricksFunction(function_name=tool.uc_function_name))\n",
    "\n",
    "with mlflow.start_run():\n",
    "    logged_agent_info = mlflow.pyfunc.log_model(\n",
    "        artifact_path=\"agent\",\n",
    "        python_model=\"agent.py\",\n",
    "        input_example=input_example,\n",
    "        extra_pip_requirements=[f\"databricks-connect=={get_distribution('databricks-connect').version}\"],\n",
    "        resources=resources,\n",
    "    )"
   ]
  },
  {
   "cell_type": "markdown",
   "metadata": {
    "application/vnd.databricks.v1+cell": {
     "cellMetadata": {
      "byteLimit": 2048000,
      "rowLimit": 10000
     },
     "inputWidgets": {},
     "nuid": "136c836c-8344-4817-80cd-cfbc3f2df3d5",
     "showTitle": false,
     "tableResultSettingsMap": {},
     "title": ""
    }
   },
   "source": [
    "## Pre-deployment agent validation\n",
    "Before registering and deploying the agent, perform pre-deployment checks using the [mlflow.models.predict()](https://mlflow.org/docs/latest/python_api/mlflow.models.html#mlflow.models.predict) API. See Databricks documentation ([AWS](https://docs.databricks.com/en/machine-learning/model-serving/model-serving-debug.html#validate-inputs) | [Azure](https://learn.microsoft.com/en-us/azure/databricks/machine-learning/model-serving/model-serving-debug#before-model-deployment-validation-checks)).\""
   ]
  },
  {
   "cell_type": "code",
   "execution_count": 0,
   "metadata": {
    "application/vnd.databricks.v1+cell": {
     "cellMetadata": {
      "byteLimit": 2048000,
      "rowLimit": 10000
     },
     "inputWidgets": {},
     "nuid": "0aba434a-d6b5-4169-90b0-39b6557a5c6a",
     "showTitle": false,
     "tableResultSettingsMap": {},
     "title": ""
    }
   },
   "outputs": [],
   "source": [
    "mlflow.models.predict(\n",
    "    model_uri=f\"runs:/{logged_agent_info.run_id}/agent\",\n",
    "    input_data=input_example,\n",
    "    env_manager=\"local\",\n",
    ")"
   ]
  },
  {
   "cell_type": "markdown",
   "metadata": {
    "application/vnd.databricks.v1+cell": {
     "cellMetadata": {
      "byteLimit": 2048000,
      "rowLimit": 10000
     },
     "inputWidgets": {},
     "nuid": "53dcfac4-0816-4f74-bee6-559740a35235",
     "showTitle": false,
     "tableResultSettingsMap": {},
     "title": ""
    }
   },
   "source": [
    "## Register the model to Unity Catalog\n",
    "\n",
    "Update the `catalog`, `schema`, and `model_name` below to register the MLflow model to Unity Catalog."
   ]
  },
  {
   "cell_type": "code",
   "execution_count": 0,
   "metadata": {
    "application/vnd.databricks.v1+cell": {
     "cellMetadata": {
      "byteLimit": 2048000,
      "rowLimit": 10000
     },
     "inputWidgets": {},
     "nuid": "7d10d68c-eaba-432b-a318-333774a999f5",
     "showTitle": false,
     "tableResultSettingsMap": {},
     "title": ""
    }
   },
   "outputs": [],
   "source": [
    "mlflow.set_registry_uri(\"databricks-uc\")\n",
    "\n",
    "# TODO: define the catalog, schema, and model name for your UC model\n",
    "catalog = \"magicorange_qa\"\n",
    "schema = \"insights\"\n",
    "model_name = \"test_genie_model\"\n",
    "UC_MODEL_NAME = f\"{catalog}.{schema}.{model_name}\"\n",
    "\n",
    "# register the model to UC\n",
    "uc_registered_model_info = mlflow.register_model(\n",
    "    model_uri=logged_agent_info.model_uri, name=UC_MODEL_NAME\n",
    ")"
   ]
  },
  {
   "cell_type": "markdown",
   "metadata": {
    "application/vnd.databricks.v1+cell": {
     "cellMetadata": {
      "byteLimit": 2048000,
      "rowLimit": 10000
     },
     "inputWidgets": {},
     "nuid": "d3c48cf1-9901-4764-be98-99092ac4142d",
     "showTitle": false,
     "tableResultSettingsMap": {},
     "title": ""
    }
   },
   "source": [
    "## Deploy the agent"
   ]
  },
  {
   "cell_type": "code",
   "execution_count": 0,
   "metadata": {
    "application/vnd.databricks.v1+cell": {
     "cellMetadata": {
      "byteLimit": 2048000,
      "rowLimit": 10000
     },
     "inputWidgets": {},
     "nuid": "944439bd-53a5-4f8b-a2b2-0cad24b4e397",
     "showTitle": false,
     "tableResultSettingsMap": {},
     "title": ""
    }
   },
   "outputs": [],
   "source": [
    "from databricks import agents\n",
    "\n",
    "agents.deploy(\n",
    "    UC_MODEL_NAME,\n",
    "    uc_registered_model_info.version,\n",
    "    tags={\"endpointSource\": \"docs\"},\n",
    "    environment_vars={\n",
    "        \"DATABRICKS_GENIE_PAT\": f\"{{{{secrets/{secret_scope_name}/{secret_key_name}}}}}\"\n",
    "    },\n",
    ")"
   ]
  },
  {
   "cell_type": "markdown",
   "metadata": {
    "application/vnd.databricks.v1+cell": {
     "cellMetadata": {
      "byteLimit": 2048000,
      "rowLimit": 10000
     },
     "inputWidgets": {},
     "nuid": "4c01c102-7010-487c-8a02-46f8e4883748",
     "showTitle": false,
     "tableResultSettingsMap": {},
     "title": ""
    }
   },
   "source": [
    "## Next steps\n",
    "\n",
    "After your agent is deployed, you can chat with it in AI playground to perform additional checks, share it with SMEs in your organization for feedback, or embed it in a production application. See Databricks documentation ([AWS](https://docs.databricks.com/en/generative-ai/deploy-agent.html) | [Azure](https://learn.microsoft.com/en-us/azure/databricks/generative-ai/deploy-agent))."
   ]
  }
 ],
 "metadata": {
  "application/vnd.databricks.v1+notebook": {
   "computePreferences": {
    "hardware": {
     "accelerator": null,
     "gpuPoolId": null,
     "memory": null
    }
   },
   "dashboards": [],
   "environmentMetadata": {
    "base_environment": "",
    "environment_version": "1"
   },
   "inputWidgetPreferences": null,
   "language": "python",
   "notebookMetadata": {
    "pythonIndentUnit": 2
   },
   "notebookName": "multi-agent-genie",
   "widgets": {}
  },
  "language_info": {
   "name": "python"
  }
 },
 "nbformat": 4,
 "nbformat_minor": 0
}
