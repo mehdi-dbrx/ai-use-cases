{
 "cells": [
  {
   "cell_type": "markdown",
   "metadata": {
    "application/vnd.databricks.v1+cell": {
     "cellMetadata": {},
     "inputWidgets": {},
     "nuid": "f67936d5-e7c1-4bb6-8c66-a4d88c9dbfe2",
     "showTitle": false,
     "tableResultSettingsMap": {},
     "title": ""
    }
   },
   "source": [
    "# \uD83D\uDE80 Model Context Protocol (MCP) Servers Demo\n",
    "\n",
    "Welcome to the **MCP Servers Demo** for Databricks AI Engineers! \uD83C\uDFAF\n",
    "\n",
    "## \uD83D\uDCCB What is MCP?\n",
    "\n",
    "The **Model Context Protocol (MCP)** is an open standard that enables AI applications to securely connect to external data sources and tools. Think of it as a bridge between your AI models and the world of data they need to access.\n",
    "\n",
    "## \uD83C\uDFAF What You'll Learn\n",
    "\n",
    "In this demo, we'll demonstrate:\n",
    "- ⚙️ How to set up and connect to MCP servers\n",
    "- \uD83D\uDD27 Working with built-in Databricks MCP tools (like Python execution)\n",
    "- \uD83D\uDD0D Exploring custom MCP servers and tools\n",
    "- \uD83D\uDCCA Practical examples of tool invocation and response handling\n",
    "\n",
    "Let's dive in! \uD83C\uDFCA‍♂️\n",
    "\n",
    "---"
   ]
  },
  {
   "cell_type": "markdown",
   "metadata": {
    "application/vnd.databricks.v1+cell": {
     "cellMetadata": {},
     "inputWidgets": {},
     "nuid": "7d20a4c7-92d2-4573-9bda-70411e7407dc",
     "showTitle": false,
     "tableResultSettingsMap": {},
     "title": ""
    }
   },
   "source": [
    "---\n",
    "\n",
    "## \uD83D\uDD04 Setup: Enable Auto-reload\n",
    "\n",
    "First, let's enable auto-reload to ensure any changes to imported modules are automatically reflected."
   ]
  },
  {
   "cell_type": "code",
   "execution_count": 0,
   "metadata": {
    "application/vnd.databricks.v1+cell": {
     "cellMetadata": {
      "byteLimit": 2048000,
      "rowLimit": 10000
     },
     "inputWidgets": {},
     "nuid": "f15ab0c2-9eeb-449a-8fd0-4b397ec4d61b",
     "showTitle": false,
     "tableResultSettingsMap": {},
     "title": ""
    }
   },
   "outputs": [],
   "source": [
    "%load_ext autoreload\n",
    "%autoreload 2"
   ]
  },
  {
   "cell_type": "markdown",
   "metadata": {
    "application/vnd.databricks.v1+cell": {
     "cellMetadata": {},
     "inputWidgets": {},
     "nuid": "98d3e6b3-5bea-42dc-8149-f9c98e05507c",
     "showTitle": false,
     "tableResultSettingsMap": {},
     "title": ""
    }
   },
   "source": [
    "---\n",
    "\n",
    "## \uD83D\uDCE6 Installation: Required Dependencies\n",
    "\n",
    "Now we'll install all the necessary packages for working with MCP servers:\n",
    "- **`mcp`**: Core MCP protocol implementation\n",
    "- **`databricks-sdk`**: Databricks SDK with OpenAI integration\n",
    "- **`mlflow`**: For ML model lifecycle management\n",
    "- **`databricks-agents`**: Databricks AI agents framework\n",
    "- **`databricks-mcp`**: Databricks-specific MCP client\n",
    "\n",
    "⏳ This might take a few minutes to complete..."
   ]
  },
  {
   "cell_type": "code",
   "execution_count": 0,
   "metadata": {
    "application/vnd.databricks.v1+cell": {
     "cellMetadata": {
      "byteLimit": 2048000,
      "rowLimit": 10000
     },
     "collapsed": true,
     "inputWidgets": {},
     "nuid": "30057f43-662d-438f-8300-973ee28667a4",
     "showTitle": false,
     "tableResultSettingsMap": {},
     "title": ""
    }
   },
   "outputs": [],
   "source": [
    "pip install -U \"mcp>=1.9\" \"databricks-sdk[openai]\" \"mlflow>=3.1.0\" \"databricks-agents>=1.0.0\" \"databricks-mcp\""
   ]
  },
  {
   "cell_type": "markdown",
   "metadata": {
    "application/vnd.databricks.v1+cell": {
     "cellMetadata": {},
     "inputWidgets": {},
     "nuid": "10245e48-e2ed-4d36-a929-9323c88d4eb5",
     "showTitle": false,
     "tableResultSettingsMap": {},
     "title": ""
    }
   },
   "source": [
    "---\n",
    "\n",
    "## \uD83D\uDD04 Restart Python Environment\n",
    "\n",
    "After installing new packages, we need to restart the Python environment to ensure all dependencies are properly loaded.\n"
   ]
  },
  {
   "cell_type": "code",
   "execution_count": 0,
   "metadata": {
    "application/vnd.databricks.v1+cell": {
     "cellMetadata": {
      "byteLimit": 2048000,
      "rowLimit": 10000
     },
     "inputWidgets": {},
     "nuid": "966a321d-82cc-4f46-999f-312772802e89",
     "showTitle": false,
     "tableResultSettingsMap": {},
     "title": ""
    }
   },
   "outputs": [],
   "source": [
    "import json\n",
    "dbutils.library.restartPython()"
   ]
  },
  {
   "cell_type": "markdown",
   "metadata": {
    "application/vnd.databricks.v1+cell": {
     "cellMetadata": {},
     "inputWidgets": {},
     "nuid": "d1e570e1-c589-4fec-adaf-fbab4562ff0f",
     "showTitle": false,
     "tableResultSettingsMap": {},
     "title": ""
    }
   },
   "source": [
    "## \uD83C\uDF10 Configure Workspace Connection\n",
    "\n",
    "Let's establish a connection to your Databricks workspace and construct the MCP server URL. This URL will be used to access the built-in AI tools provided by Databricks.\n",
    "\n",
    "The `system.ai` schema contains powerful tools like the Python code interpreter! \uD83D\uDC0D"
   ]
  },
  {
   "cell_type": "code",
   "execution_count": 0,
   "metadata": {
    "application/vnd.databricks.v1+cell": {
     "cellMetadata": {
      "byteLimit": 2048000,
      "rowLimit": 10000
     },
     "inputWidgets": {},
     "nuid": "14544ab2-ee17-4862-a4f4-3c4ba342faf5",
     "showTitle": false,
     "tableResultSettingsMap": {},
     "title": ""
    }
   },
   "outputs": [],
   "source": [
    "\n",
    "from databricks.sdk import WorkspaceClient\n",
    "workspace_client = WorkspaceClient()\n",
    "workspace_hostname = workspace_client.config.host\n",
    "mcp_server_url = f\"{workspace_hostname}/api/2.0/mcp/functions/system/ai\"\n",
    "mcp_server_url"
   ]
  },
  {
   "cell_type": "markdown",
   "metadata": {
    "application/vnd.databricks.v1+cell": {
     "cellMetadata": {},
     "inputWidgets": {},
     "nuid": "4a0b51da-8f98-4b7d-beba-65451ff5670b",
     "showTitle": false,
     "tableResultSettingsMap": {},
     "title": ""
    }
   },
   "source": [
    "---\n",
    "\n",
    "## \uD83D\uDEE0️ Helper Functions: MCP Client Operations\n",
    "\n",
    "Here we define utility functions to:\n",
    "- **Connect** to MCP servers and discover available tools \uD83D\uDD0D\n",
    "- **Invoke** MCP tools with parameters and handle responses \uD83D\uDCE1\n",
    "\n",
    "These functions will be reused throughout the demo to interact with different MCP servers."
   ]
  },
  {
   "cell_type": "code",
   "execution_count": 0,
   "metadata": {
    "application/vnd.databricks.v1+cell": {
     "cellMetadata": {
      "byteLimit": 2048000,
      "rowLimit": 10000
     },
     "inputWidgets": {},
     "nuid": "3158ffd0-26ed-41a4-b9be-6789eac22d8a",
     "showTitle": false,
     "tableResultSettingsMap": {},
     "title": ""
    }
   },
   "outputs": [],
   "source": [
    "from databricks_mcp import DatabricksMCPClient\n",
    "import nest_asyncio\n",
    "nest_asyncio.apply()\n",
    "\n",
    "# This snippet below uses the Unity Catalog functions MCP server to expose built-in\n",
    "# AI tools under `system.ai`, like the `system.ai.python_exec` code interpreter tool\n",
    "def test_connect_to_server_get_tools(mcp_server_url):\n",
    "     mcp_client = DatabricksMCPClient(server_url=mcp_server_url, workspace_client=workspace_client)\n",
    "     tools = mcp_client.list_tools()\n",
    "\n",
    "     print(\n",
    "         f\"Discovered tools {[t.name for t in tools]} \"\n",
    "         f\"from MCP server {mcp_server_url}\"\n",
    "     )\n",
    "     return mcp_client, tools\n",
    "\n",
    "def mcp_invoke_tool(mcp_client, tool, params):\n",
    "     import json\n",
    "     result = mcp_client.call_tool(\n",
    "         tool, params\n",
    "     )\n",
    "     print(f\"Called MCP tool {tool}\")\n",
    "     print(f\"Response:\\n \")\n",
    "     [print(json.dumps(item, indent=2, ensure_ascii=False)) for item in json.loads(json.loads(result.content[0].text)['rows'][0][0])]\n",
    "     "
   ]
  },
  {
   "cell_type": "markdown",
   "metadata": {
    "application/vnd.databricks.v1+cell": {
     "cellMetadata": {},
     "inputWidgets": {},
     "nuid": "b20545b3-f77c-4dc5-a1ef-3914787defc9",
     "showTitle": false,
     "tableResultSettingsMap": {},
     "title": ""
    }
   },
   "source": [
    "---\n",
    "\n",
    "## \uD83D\uDD0D Discover Built-in AI Tools\n",
    "\n",
    "Let's connect to the Databricks system AI MCP server and see what tools are available! \n",
    "\n",
    "Expected tools:\n",
    "- **`system__ai__python_exec`**: A powerful Python code interpreter that can execute code in a sandboxed environment \uD83D\uDC0D✨"
   ]
  },
  {
   "cell_type": "markdown",
   "metadata": {
    "application/vnd.databricks.v1+cell": {
     "cellMetadata": {},
     "inputWidgets": {},
     "nuid": "bf6d6847-320c-4a85-abb3-ff605d995600",
     "showTitle": false,
     "tableResultSettingsMap": {},
     "title": ""
    }
   },
   "source": [
    "\n",
    "---\n",
    "\n",
    "## \uD83D\uDCCA Inspect Tool Schema\n",
    "\n",
    "Let's examine the detailed schema of the Python execution tool. This will show us:\n",
    "- \uD83D\uDCDD **Description**: What the tool does\n",
    "- \uD83D\uDD27 **Input Schema**: What parameters it expects\n",
    "- \uD83D\uDCE4 **Output Schema**: What it returns\n",
    "- ⚙️ **Annotations**: Additional metadata\n"
   ]
  },
  {
   "cell_type": "code",
   "execution_count": 0,
   "metadata": {
    "application/vnd.databricks.v1+cell": {
     "cellMetadata": {
      "byteLimit": 2048000,
      "rowLimit": 10000
     },
     "inputWidgets": {},
     "nuid": "e8281459-ec8c-4e0c-b7ad-904b6a8d2910",
     "showTitle": false,
     "tableResultSettingsMap": {},
     "title": ""
    }
   },
   "outputs": [],
   "source": [
    "mcp_client, tools = test_connect_to_server_get_tools(mcp_server_url)"
   ]
  },
  {
   "cell_type": "code",
   "execution_count": 0,
   "metadata": {
    "application/vnd.databricks.v1+cell": {
     "cellMetadata": {
      "byteLimit": 2048000,
      "rowLimit": 10000
     },
     "inputWidgets": {},
     "nuid": "fdd63374-292b-4f58-ae4d-3c06e5544a58",
     "showTitle": false,
     "tableResultSettingsMap": {},
     "title": ""
    }
   },
   "outputs": [],
   "source": [
    "print(json.dumps(tools[0].__dict__, indent=2, default=str))\n"
   ]
  },
  {
   "cell_type": "markdown",
   "metadata": {
    "application/vnd.databricks.v1+cell": {
     "cellMetadata": {},
     "inputWidgets": {},
     "nuid": "f8dc2d53-b150-4750-b1c8-aaca6a917f13",
     "showTitle": false,
     "tableResultSettingsMap": {},
     "title": ""
    }
   },
   "source": [
    "---\n",
    "\n",
    "## \uD83D\uDE80 Test Python Code Execution\n",
    "\n",
    "Time for our first tool invocation! Let's test the Python executor with a simple \"Hello, world!\" example.\n",
    "\n",
    "**What happens here:**\n",
    "1. We send Python code to the MCP server\n",
    "2. The server executes it in a secure sandbox\n",
    "3. We receive the output back as structured data\n",
    "\n",
    "\uD83D\uDD12 **Security Note**: The execution happens in a stateless, sandboxed environment for safety!"
   ]
  },
  {
   "cell_type": "code",
   "execution_count": 0,
   "metadata": {
    "application/vnd.databricks.v1+cell": {
     "cellMetadata": {
      "byteLimit": 2048000,
      "rowLimit": 10000
     },
     "inputWidgets": {},
     "nuid": "0062ab4b-0b76-46f6-979b-1189eac41bd3",
     "showTitle": false,
     "tableResultSettingsMap": {},
     "title": ""
    }
   },
   "outputs": [],
   "source": [
    "mcp_invoke_tool(mcp_client,tools[0].name, {\"code\": \"print('Hello, world!')\"})"
   ]
  },
  {
   "cell_type": "markdown",
   "metadata": {
    "application/vnd.databricks.v1+cell": {
     "cellMetadata": {},
     "inputWidgets": {},
     "nuid": "d6a309a4-7e4a-4a88-9df1-cfa92d665d99",
     "showTitle": false,
     "tableResultSettingsMap": {},
     "title": ""
    }
   },
   "source": [
    "---\n",
    "\n",
    "## \uD83D\uDD04 Connect to Custom MCP Server\n",
    "\n",
    "Now let's explore a **custom MCP server**! This one provides insurance-related tools:\n",
    "\n",
    "**Server**: `mc/fidel` - Fidelidade Insurance Company tools  \n",
    "**Expected Tool**: `mc__fidel__search_conditions` - Search insurance policy conditions \uD83D\uDCCB\uD83D\uDD0D\n",
    "\n",
    "This demonstrates how MCP can be used to expose domain-specific business tools!\n"
   ]
  },
  {
   "cell_type": "code",
   "execution_count": 0,
   "metadata": {
    "application/vnd.databricks.v1+cell": {
     "cellMetadata": {
      "byteLimit": 2048000,
      "rowLimit": 10000
     },
     "inputWidgets": {},
     "nuid": "3a3149ce-4d8f-445d-af95-3fa092c1f039",
     "showTitle": false,
     "tableResultSettingsMap": {},
     "title": ""
    }
   },
   "outputs": [],
   "source": [
    "mcp_server_url = f\"{workspace_hostname}/api/2.0/mcp/functions/mc/fidel\"\n",
    "mcp_client, tools = test_connect_to_server_get_tools(mcp_server_url)\n"
   ]
  },
  {
   "cell_type": "markdown",
   "metadata": {
    "application/vnd.databricks.v1+cell": {
     "cellMetadata": {},
     "inputWidgets": {},
     "nuid": "954a50e0-3868-4f5e-bea5-65698190ca6b",
     "showTitle": false,
     "tableResultSettingsMap": {},
     "title": ""
    }
   },
   "source": [
    "---\n",
    "\n",
    "## \uD83D\uDCCB Examine Insurance Tool Schema\n",
    "\n",
    "Let's inspect the insurance search tool to understand:\n",
    "- \uD83C\uDFAF **Purpose**: What this business tool accomplishes\n",
    "- \uD83D\uDCE5 **Input**: How to query insurance conditions\n",
    "- \uD83D\uDCCA **Output**: What kind of insurance data it returns\n"
   ]
  },
  {
   "cell_type": "code",
   "execution_count": 0,
   "metadata": {
    "application/vnd.databricks.v1+cell": {
     "cellMetadata": {
      "byteLimit": 2048000,
      "rowLimit": 10000
     },
     "inputWidgets": {},
     "nuid": "9b4265c6-0455-4d5f-89d8-abaa64ab6375",
     "showTitle": false,
     "tableResultSettingsMap": {},
     "title": ""
    }
   },
   "outputs": [],
   "source": [
    "print(json.dumps(tools[0].__dict__, indent=2, default=str))\n"
   ]
  },
  {
   "cell_type": "markdown",
   "metadata": {
    "application/vnd.databricks.v1+cell": {
     "cellMetadata": {},
     "inputWidgets": {},
     "nuid": "a0414d7e-5050-4632-a924-e8e8aef41a01",
     "showTitle": false,
     "tableResultSettingsMap": {},
     "title": ""
    }
   },
   "source": [
    "---\n",
    "\n",
    "## \uD83D\uDD0D Query Insurance Conditions\n",
    "\n",
    "Let's test the insurance search tool by querying for **hazard types** covered by insurance policies.\n",
    "\n",
    "**Query**: \"names of hazard types covered by my insurance\"\n",
    "\n",
    "This demonstrates how MCP can expose specialized business knowledge and make it accessible to AI systems! \uD83C\uDFE2\uD83D\uDCBC"
   ]
  },
  {
   "cell_type": "code",
   "execution_count": 0,
   "metadata": {
    "application/vnd.databricks.v1+cell": {
     "cellMetadata": {
      "byteLimit": 2048000,
      "rowLimit": 10000
     },
     "inputWidgets": {},
     "nuid": "cffb420c-1942-4aff-97de-9ad29f2a5964",
     "showTitle": false,
     "tableResultSettingsMap": {},
     "title": ""
    }
   },
   "outputs": [],
   "source": [
    "mcp_invoke_tool(mcp_client,tools[0].name, {\"my_query\": \"names of hazard types covered by my insurance\"})"
   ]
  },
  {
   "cell_type": "markdown",
   "metadata": {
    "application/vnd.databricks.v1+cell": {
     "cellMetadata": {},
     "inputWidgets": {},
     "nuid": "53575036-3623-421c-8b0e-81912a0bb8a8",
     "showTitle": false,
     "tableResultSettingsMap": {},
     "title": ""
    }
   },
   "source": [
    "---\n",
    "\n",
    "## \uD83D\uDD10 Authentication Setup\n",
    "\n",
    "For connecting to **external MCP servers** (like Databricks Apps), we need authentication. \n",
    "\n",
    "**\uD83D\uDEE0️ Setup Instructions:**\n",
    "1. Run this in your **local terminal**:\n",
    "   ```bash\n",
    "   databricks auth login --host https://adb-984752964297111.11.azuredatabricks.net\n",
    "   Databricks profile name: mehdi-dbx-profile\n",
    "   databricks auth token -p mehdi-dbx-profile\n",
    "   ```\n",
    "2. Copy the token and enter it when prompted below \uD83D\uDD11\n"
   ]
  },
  {
   "cell_type": "code",
   "execution_count": 0,
   "metadata": {
    "application/vnd.databricks.v1+cell": {
     "cellMetadata": {
      "byteLimit": 2048000,
      "rowLimit": 10000
     },
     "inputWidgets": {},
     "nuid": "09bf6d80-7fe2-4d55-a056-9502e13683a9",
     "showTitle": false,
     "tableResultSettingsMap": {},
     "title": ""
    }
   },
   "outputs": [],
   "source": [
    "import getpass\n",
    "token = getpass.getpass(\"Enter your Databricks token: \")"
   ]
  },
  {
   "cell_type": "markdown",
   "metadata": {
    "application/vnd.databricks.v1+cell": {
     "cellMetadata": {},
     "inputWidgets": {},
     "nuid": "b0fd83cd-cdc1-4d78-a03b-bc411ef59700",
     "showTitle": false,
     "tableResultSettingsMap": {},
     "title": ""
    }
   },
   "source": [
    "---\n",
    "\n",
    "## \uD83C\uDF10 Connect to External MCP Server App\n",
    "\n",
    "Now we'll connect to a **Databricks App** that hosts a custom MCP server! This demonstrates:\n",
    "\n",
    "- \uD83D\uDD17 **External Connectivity**: How to connect to MCP servers outside Unity Catalog\n",
    "- \uD83D\uDEE1️ **OAuth Authentication**: Secure connection using Databricks OAuth\n",
    "- \uD83D\uDCF1 **App Integration**: How Databricks Apps can expose MCP tools\n",
    "\n",
    "**Target App**: `custom-mcp-server-mehdi` - A simple calculator service\n",
    "\n",
    "- Deploy an external MCP Server in Databricks Apps Following the steps provided in the following Repo :\n",
    "\n",
    "https://github.com/databrickslabs/mcp/tree/master/examples/custom-server"
   ]
  },
  {
   "cell_type": "code",
   "execution_count": 0,
   "metadata": {
    "application/vnd.databricks.v1+cell": {
     "cellMetadata": {
      "byteLimit": 2048000,
      "rowLimit": 10000
     },
     "inputWidgets": {},
     "nuid": "f8e24de9-a9c3-4211-9c19-561b54f0a7b5",
     "showTitle": false,
     "tableResultSettingsMap": {},
     "title": ""
    }
   },
   "outputs": [],
   "source": [
    "import json\n",
    "from databricks.sdk import WorkspaceClient\n",
    "from databricks_mcp import DatabricksOAuthClientProvider\n",
    "from databricks.sdk.credentials_provider import ModelServingUserCredentials\n",
    "from mcp.client.streamable_http import streamablehttp_client as connect\n",
    "from mcp import ClientSession\n",
    "\n",
    "import logging\n",
    "logging.getLogger('mcp.client.streamable_http').setLevel(logging.ERROR)\n",
    "\n",
    "workspace_hostname = WorkspaceClient().config.host\n",
    "MCP_SERVER_DATABRICKS_APP_DOMAIN = 'custom-mcp-server-mehdi-984752964297111.11.azure.databricksapps.com'\n",
    "\n",
    "async def connect_to_custom_mcp_server_app_and_get_tools():\n",
    "    \n",
    "    app_url = f\"https://{MCP_SERVER_DATABRICKS_APP_DOMAIN}/mcp\"\n",
    "\n",
    "    client = WorkspaceClient(\n",
    "        host=workspace_hostname,\n",
    "        token= token  # Replace with your actual token\n",
    "    )\n",
    "\n",
    "    async with connect(app_url, auth=DatabricksOAuthClientProvider(client)) as (\n",
    "        read_stream,\n",
    "        write_stream,\n",
    "        _,\n",
    "    ):\n",
    "        async with ClientSession(read_stream, write_stream) as session:\n",
    "            await session.initialize()\n",
    "            tools = await session.list_tools()\n",
    "            print(f\"Available tools: {[tool.name for tool in tools.tools]}\")\n",
    "            return session, tools\n",
    "\n"
   ]
  },
  {
   "cell_type": "markdown",
   "metadata": {
    "application/vnd.databricks.v1+cell": {
     "cellMetadata": {},
     "inputWidgets": {},
     "nuid": "54133d98-e310-4d51-a6e9-ff2768ea1279",
     "showTitle": false,
     "tableResultSettingsMap": {},
     "title": ""
    }
   },
   "source": [
    "---\n",
    "\n",
    "## \uD83E\uDDEE Test External MCP Server Tools\n",
    "\n",
    "Let's explore and test the tools from our external Databricks App MCP server!\n",
    "\n",
    "**Expected Tool**: `add` - A simple addition calculator\n",
    "\n",
    "This demonstrates the full MCP workflow with external servers. \uD83D\uDD04"
   ]
  },
  {
   "cell_type": "code",
   "execution_count": 0,
   "metadata": {
    "application/vnd.databricks.v1+cell": {
     "cellMetadata": {
      "byteLimit": 2048000,
      "rowLimit": 10000
     },
     "inputWidgets": {},
     "nuid": "e9f9685e-f90a-43a1-96b3-447f17aa2bdd",
     "showTitle": false,
     "tableResultSettingsMap": {},
     "title": ""
    }
   },
   "outputs": [],
   "source": [
    "tools = await with_mcp_session(explore_tools)\n",
    "result = await with_mcp_session(call_add_tool)"
   ]
  },
  {
   "cell_type": "markdown",
   "metadata": {
    "application/vnd.databricks.v1+cell": {
     "cellMetadata": {},
     "inputWidgets": {},
     "nuid": "f7b2578d-1632-4ba5-97c5-02b5c3c65334",
     "showTitle": false,
     "tableResultSettingsMap": {},
     "title": ""
    }
   },
   "source": [
    "---\n",
    "\n",
    "## \uD83D\uDCCA Detailed Tool Schema (JSON)\n",
    "\n",
    "Let's examine the complete JSON schema of our external tools for deeper understanding:\n"
   ]
  },
  {
   "cell_type": "code",
   "execution_count": 0,
   "metadata": {
    "application/vnd.databricks.v1+cell": {
     "cellMetadata": {
      "byteLimit": 2048000,
      "rowLimit": 10000
     },
     "inputWidgets": {},
     "nuid": "e166d638-25d6-4caa-9836-9dde9b53127d",
     "showTitle": false,
     "tableResultSettingsMap": {},
     "title": ""
    }
   },
   "outputs": [],
   "source": [
    "print(json.dumps([tool.__dict__ for tool in tools.tools], indent=2))"
   ]
  },
  {
   "cell_type": "markdown",
   "metadata": {
    "application/vnd.databricks.v1+cell": {
     "cellMetadata": {},
     "inputWidgets": {},
     "nuid": "b130a234-006b-4d8d-b69d-777ef3d9ccaf",
     "showTitle": false,
     "tableResultSettingsMap": {},
     "title": ""
    }
   },
   "source": [
    "---\n",
    "\n",
    "## \uD83D\uDC0D Pretty Print Tool Schema\n",
    "\n",
    "For better readability, let's use Python's `pprint` to display the tool schema:\n",
    "\n",
    "\n"
   ]
  },
  {
   "cell_type": "code",
   "execution_count": 0,
   "metadata": {
    "application/vnd.databricks.v1+cell": {
     "cellMetadata": {
      "byteLimit": 2048000,
      "rowLimit": 10000
     },
     "inputWidgets": {},
     "nuid": "5506ee09-5743-41d9-9d11-c056f8b20bd3",
     "showTitle": false,
     "tableResultSettingsMap": {},
     "title": ""
    }
   },
   "outputs": [],
   "source": [
    "from pprint import pprint\n",
    "pprint([tool.__dict__ for tool in tools.tools])"
   ]
  },
  {
   "cell_type": "markdown",
   "metadata": {
    "application/vnd.databricks.v1+cell": {
     "cellMetadata": {},
     "inputWidgets": {},
     "nuid": "c1426b7e-82c2-41ac-9807-1487a461d184",
     "showTitle": false,
     "tableResultSettingsMap": {},
     "title": ""
    }
   },
   "source": [
    "---\n",
    "\n",
    "## \uD83C\uDF33 Beautiful Tool Visualization\n",
    "\n",
    "Now let's create a beautiful tree visualization of our MCP tools using Rich! This provides:\n",
    "\n",
    "- \uD83C\uDFAF **Clear structure**: Tool names, descriptions, and parameters\n",
    "- \uD83C\uDFA8 **Color coding**: Different colors for different types of information\n",
    "- \uD83D\uDCCB **Hierarchical view**: Easy to understand tool capabilities at a glance\n"
   ]
  },
  {
   "cell_type": "code",
   "execution_count": 0,
   "metadata": {
    "application/vnd.databricks.v1+cell": {
     "cellMetadata": {
      "byteLimit": 2048000,
      "rowLimit": 10000
     },
     "inputWidgets": {},
     "nuid": "2ab31adf-6fcc-438f-9750-8cb1d0517077",
     "showTitle": false,
     "tableResultSettingsMap": {},
     "title": ""
    }
   },
   "outputs": [],
   "source": [
    "%pip install rich -q\n"
   ]
  },
  {
   "cell_type": "code",
   "execution_count": 0,
   "metadata": {
    "application/vnd.databricks.v1+cell": {
     "cellMetadata": {
      "byteLimit": 2048000,
      "rowLimit": 10000
     },
     "inputWidgets": {},
     "nuid": "52d5bb4e-6fc8-4e13-805e-e4a22b79a198",
     "showTitle": false,
     "tableResultSettingsMap": {},
     "title": ""
    }
   },
   "outputs": [],
   "source": [
    "from rich import print\n",
    "from rich.tree import Tree\n",
    "\n",
    "tree = Tree(\"Tools\")\n",
    "for tool in tools.tools:\n",
    "   tool_tree = tree.add(f\"[bold blue]{tool.name}[/bold blue]: {tool.description}\")\n",
    "   \n",
    "   # Input parameters\n",
    "   input_tree = tool_tree.add(\"[green]Input Parameters[/green]\")\n",
    "   for param, details in tool.inputSchema.get('properties', {}).items():\n",
    "       input_tree.add(f\"{param}: {details.get('type', 'unknown')} - {details.get('title', '')}\")\n",
    "   \n",
    "   # Output parameters  \n",
    "   output_tree = tool_tree.add(\"[yellow]Output Parameters[/yellow]\")\n",
    "   for param, details in tool.outputSchema.get('properties', {}).items():\n",
    "       output_tree.add(f\"{param}: {details.get('type', 'unknown')} - {details.get('title', '')}\")\n",
    "\n",
    "print(tree)"
   ]
  },
  {
   "cell_type": "markdown",
   "metadata": {
    "application/vnd.databricks.v1+cell": {
     "cellMetadata": {},
     "inputWidgets": {},
     "nuid": "acd9675f-3c93-4ec6-bb1a-93c071c22bb4",
     "showTitle": false,
     "tableResultSettingsMap": {},
     "title": ""
    }
   },
   "source": [
    "---\n",
    "\n",
    "## \uD83D\uDCCB Final Result Analysis\n",
    "\n",
    "Let's examine the detailed response from our MCP tool call to understand the complete response structure:"
   ]
  },
  {
   "cell_type": "code",
   "execution_count": 0,
   "metadata": {
    "application/vnd.databricks.v1+cell": {
     "cellMetadata": {
      "byteLimit": 2048000,
      "rowLimit": 10000
     },
     "inputWidgets": {},
     "nuid": "5ad98301-844e-48d7-991d-cdf7e9870789",
     "showTitle": false,
     "tableResultSettingsMap": {},
     "title": ""
    }
   },
   "outputs": [],
   "source": [
    "print(json.dumps(result.__dict__, indent=2, default=str))\n"
   ]
  },
  {
   "cell_type": "markdown",
   "metadata": {
    "application/vnd.databricks.v1+cell": {
     "cellMetadata": {},
     "inputWidgets": {},
     "nuid": "d4fcd15c-edf3-48bb-b645-bf9dad2a2df6",
     "showTitle": false,
     "tableResultSettingsMap": {},
     "title": ""
    }
   },
   "source": [
    "---\n",
    "\n",
    "# \uD83C\uDF89 Demo Summary\n",
    "\n",
    "## \uD83C\uDFC6 What We Accomplished\n",
    "\n",
    "Congratulations! You've successfully explored the Model Context Protocol (MCP) ecosystem in Databricks! Here's what we covered:\n",
    "\n",
    "### \uD83D\uDD27 **Built-in Tools Explored**\n",
    "- ✅ **System AI Python Executor**: Executed Python code in a secure sandbox\n",
    "- ✅ **Tool Discovery**: Connected to Unity Catalog MCP servers\n",
    "- ✅ **Schema Inspection**: Examined tool input/output schemas\n",
    "\n",
    "### \uD83C\uDFE2 **Custom Business Tools**\n",
    "- ✅ **Insurance Search Tool**: Queried domain-specific business data\n",
    "- ✅ **Structured Responses**: Received formatted business intelligence\n",
    "- ✅ **Real-world Integration**: Demonstrated practical business use cases\n",
    "\n",
    "### \uD83C\uDF10 **External App Integration**\n",
    "- ✅ **Databricks Apps**: Connected to external MCP servers\n",
    "- ✅ **OAuth Authentication**: Secured connections with proper authentication\n",
    "- ✅ **Calculator Service**: Tested external tool functionality\n",
    "\n",
    "### \uD83C\uDFA8 **Advanced Visualization**\n",
    "- ✅ **Rich Formatting**: Created beautiful tool visualizations\n",
    "- ✅ **Tree Structures**: Organized tool information hierarchically\n",
    "- ✅ **Response Analysis**: Examined detailed tool responses\n",
    "\n",
    "## \uD83D\uDE80 **Key Takeaways**\n",
    "\n",
    "1. **\uD83D\uDD0C Seamless Integration**: MCP provides a standardized way to connect AI systems to external tools and data sources\n",
    "\n",
    "2. **\uD83D\uDD12 Security First**: All tool executions happen in secure, sandboxed environments\n",
    "\n",
    "3. **\uD83D\uDCCA Structured Data**: Tools return well-formatted, structured responses that are easy to process\n",
    "\n",
    "4. **\uD83C\uDFE2 Business Ready**: MCP can expose domain-specific business tools and knowledge bases\n",
    "\n",
    "5. **\uD83C\uDF10 Flexible Architecture**: Supports both internal Unity Catalog tools and external Databricks Apps\n",
    "\n",
    "## \uD83D\uDD2E **Next Steps**\n",
    "\n",
    "- **Build Custom Tools**: Create your own MCP servers for specific business needs\n",
    "- **Integrate with AI Agents**: Use these tools in AI agent workflows\n",
    "- **Scale Deployments**: Deploy MCP servers across your organization\n",
    "- **Explore Advanced Features**: Dive deeper into MCP capabilities and integrations\n",
    "\n",
    "## \uD83D\uDCDA **Additional Resources**\n",
    "\n",
    "- [MCP Official Documentation](https://modelcontextprotocol.io/)\n",
    "- [Databricks MCP Integration Guide](https://docs.databricks.com/aws/en/generative-ai/mcp/)\n",
    "- [Unity Catalog Functions](https://docs.databricks.com/en/sql/language-manual/sql-ref-functions-builtin.html)\n",
    "\n",
    "---\n",
    "\n",
    "**Happy building with MCP! \uD83C\uDFAF\uD83D\uDE80**"
   ]
  }
 ],
 "metadata": {
  "application/vnd.databricks.v1+notebook": {
   "computePreferences": {
    "hardware": {
     "accelerator": null,
     "gpuPoolId": null,
     "memory": null
    }
   },
   "dashboards": [],
   "environmentMetadata": {
    "base_environment": "",
    "environment_version": "2"
   },
   "inputWidgetPreferences": null,
   "language": "python",
   "notebookMetadata": {
    "pythonIndentUnit": 2
   },
   "notebookName": "MCP SERVERS DEMO - CODE ALONG",
   "widgets": {}
  },
  "language_info": {
   "name": "python"
  }
 },
 "nbformat": 4,
 "nbformat_minor": 0
}