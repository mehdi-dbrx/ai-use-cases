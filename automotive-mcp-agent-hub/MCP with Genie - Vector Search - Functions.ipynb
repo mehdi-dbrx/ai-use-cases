{
 "cells": [
  {
   "cell_type": "markdown",
   "metadata": {
    "application/vnd.databricks.v1+cell": {
     "cellMetadata": {},
     "inputWidgets": {},
     "nuid": "baf588fa-37d4-4ef9-9223-47c705d2b09d",
     "showTitle": false,
     "tableResultSettingsMap": {},
     "title": ""
    }
   },
   "source": [
    "# Databricks Managed MCP Server for Genie, Vector Search, and Custom Functions"
   ]
  },
  {
   "cell_type": "code",
   "execution_count": 0,
   "metadata": {
    "application/vnd.databricks.v1+cell": {
     "cellMetadata": {
      "byteLimit": 2048000,
      "rowLimit": 10000
     },
     "inputWidgets": {},
     "nuid": "ca8a6ce8-d5b0-4bb0-b488-983ec5ce01d6",
     "showTitle": false,
     "tableResultSettingsMap": {},
     "title": ""
    }
   },
   "outputs": [],
   "source": [
    "%pip install -U \"mcp>=1.9\" \"databricks-sdk[openai]\" \"mlflow>=3.1.0\" \"databricks-agents>=1.0.0\" \"databricks-mcp\" databricks_ai_bridge\n",
    "\n",
    "dbutils.library.restartPython()"
   ]
  },
  {
   "cell_type": "markdown",
   "metadata": {
    "application/vnd.databricks.v1+cell": {
     "cellMetadata": {},
     "inputWidgets": {},
     "nuid": "77b7f375-bdf6-4ec2-9e13-31b663256bc1",
     "showTitle": false,
     "tableResultSettingsMap": {},
     "title": ""
    }
   },
   "source": [
    "## MCP with Genie"
   ]
  },
  {
   "cell_type": "code",
   "execution_count": 0,
   "metadata": {
    "application/vnd.databricks.v1+cell": {
     "cellMetadata": {
      "byteLimit": 2048000,
      "rowLimit": 10000
     },
     "inputWidgets": {},
     "nuid": "6e2e57c3-d473-41ce-aea3-da9facb9ae1c",
     "showTitle": false,
     "tableResultSettingsMap": {},
     "title": ""
    }
   },
   "outputs": [],
   "source": [
    "space_id = \"01f05e591d711e81bd981dae9784abbd\"\n",
    "\n",
    "# Initialize the Databricks MCP client with the specified server URL and workspace client\n",
    "mcp_client = DatabricksMCPClient(\n",
    "    server_url=f\"https:///adb-984752964297111.11.azuredatabricks.net/api/2.0/mcp/genie/{space_id}\",\n",
    "    workspace_client=workspace_client,\n",
    ")\n",
    "\n",
    "# Access the genie client from the MCP client\n",
    "genie = mcp_client.client.genie\n",
    "\n",
    "# Start a conversation with the genie and wait for a response\n",
    "response = genie.start_conversation_and_wait(\n",
    "    space_id=space_id,\n",
    "    content=\"what are different type of order status?\",\n",
    ")\n",
    "\n",
    "# Retrieve the query result from the message attachment\n",
    "genie.get_message_attachment_query_result(\n",
    "    space_id=space_id,\n",
    "    message_id=response.message_id,\n",
    "    conversation_id=response.conversation_id,\n",
    "    attachment_id=response.attachments[0].attachment_id,\n",
    ").statement_response.result.data_array,"
   ]
  },
  {
   "cell_type": "markdown",
   "metadata": {
    "application/vnd.databricks.v1+cell": {
     "cellMetadata": {},
     "inputWidgets": {},
     "nuid": "deda37af-5db1-4d1f-befe-55a457c8bbc4",
     "showTitle": false,
     "tableResultSettingsMap": {},
     "title": ""
    }
   },
   "source": [
    "## MCP with Databricks Vector Search"
   ]
  },
  {
   "cell_type": "code",
   "execution_count": 0,
   "metadata": {
    "application/vnd.databricks.v1+cell": {
     "cellMetadata": {
      "byteLimit": 2048000,
      "rowLimit": 10000
     },
     "inputWidgets": {},
     "nuid": "1a710db2-2013-4fb4-804f-1f39d801e40a",
     "showTitle": false,
     "tableResultSettingsMap": {},
     "title": ""
    }
   },
   "outputs": [],
   "source": [
    "catalog_name = \"mc\"\n",
    "schema_name = \"fidel\"\n",
    "\n",
    "# Initialize the Databricks MCP client with the specified server URL and workspace client\n",
    "mcp_client = DatabricksMCPClient(\n",
    "    server_url=f\"https:///adb-984752964297111.11.azuredatabricks.net/api/2.0/mcp/vector-search/{catalog_name}/{schema_name}\",\n",
    "    workspace_client=workspace_client,\n",
    ")\n",
    "\n",
    "# Query the vector search index with the specified index name and query text\n",
    "mcp_client.client.vector_search_indexes.query_index(\n",
    "    index_name=\"mc.fidel.vs_index\",\n",
    "    query_text=\"RAG\",\n",
    "    columns=[\"page_content_chunk\"],\n",
    ").result.data_array"
   ]
  },
  {
   "cell_type": "markdown",
   "metadata": {
    "application/vnd.databricks.v1+cell": {
     "cellMetadata": {},
     "inputWidgets": {},
     "nuid": "3b301450-fba9-48a1-baae-69e682919932",
     "showTitle": false,
     "tableResultSettingsMap": {},
     "title": ""
    }
   },
   "source": [
    "## MCP with Custom Functions"
   ]
  },
  {
   "cell_type": "code",
   "execution_count": 0,
   "metadata": {
    "application/vnd.databricks.v1+cell": {
     "cellMetadata": {
      "byteLimit": 2048000,
      "rowLimit": 10000
     },
     "inputWidgets": {},
     "nuid": "50a66d3b-522c-4122-af12-faa4b5ce41ef",
     "showTitle": false,
     "tableResultSettingsMap": {
      "0": {
       "dataGridStateBlob": "{\"version\":1,\"tableState\":{\"columnPinning\":{\"left\":[\"#row_number#\"],\"right\":[]},\"columnSizing\":{\"rows\":215},\"columnVisibility\":{}},\"settings\":{\"columns\":{}},\"syncTimestamp\":1752503088143}",
       "filterBlob": null,
       "queryPlanFiltersBlob": null,
       "tableResultIndex": 0
      }
     },
     "title": ""
    }
   },
   "outputs": [],
   "source": [
    "import nest_asyncio\n",
    "import pandas as pd\n",
    "import json\n",
    "from databricks_mcp import DatabricksMCPClient\n",
    "from databricks.sdk import WorkspaceClient\n",
    "\n",
    "workspace_client = WorkspaceClient()\n",
    "mcp_server_url = (\n",
    "    \"https://adb-984752964297111.11.azuredatabricks.net/api/2.0/mcp/functions/system/ai\"\n",
    ")\n",
    "nest_asyncio.apply()\n",
    "\n",
    "code = \"\"\"print(\"Hello, world!\")\"\"\"\n",
    "\n",
    "\n",
    "def test_connect_to_server(code):\n",
    "    mcp_client = DatabricksMCPClient(\n",
    "        server_url=mcp_server_url, workspace_client=workspace_client\n",
    "    )\n",
    "\n",
    "    tools = mcp_client.list_tools()\n",
    "    print(f\"Discovered tools {[t.name for t in tools]}\")\n",
    "\n",
    "    result = mcp_client.call_tool(\"system__ai__python_exec\", {\"code\": code})\n",
    "    return result.content[0].text\n",
    "\n",
    "\n",
    "# display(pd.DataFrame([test_connect_to_server(code)]))\n",
    "\n",
    "result = test_connect_to_server(code)\n",
    "\n",
    "display(pd.DataFrame((json.loads(result))))"
   ]
  }
 ],
 "metadata": {
  "application/vnd.databricks.v1+notebook": {
   "computePreferences": null,
   "dashboards": [],
   "environmentMetadata": {
    "base_environment": "",
    "environment_version": "2"
   },
   "inputWidgetPreferences": null,
   "language": "python",
   "notebookMetadata": {
    "pythonIndentUnit": 2
   },
   "notebookName": "MCP with Genie - Vector Search - Functions",
   "widgets": {}
  },
  "language_info": {
   "name": "python"
  }
 },
 "nbformat": 4,
 "nbformat_minor": 0
}