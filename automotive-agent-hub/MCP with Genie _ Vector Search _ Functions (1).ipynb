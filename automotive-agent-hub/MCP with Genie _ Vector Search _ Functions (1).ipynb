{
 "cells": [
  {
   "cell_type": "markdown",
   "metadata": {
    "application/vnd.databricks.v1+cell": {
     "cellMetadata": {},
     "inputWidgets": {},
     "nuid": "baf588fa-37d4-4ef9-9223-47c705d2b09d",
     "showTitle": false,
     "tableResultSettingsMap": {},
     "title": ""
    }
   },
   "source": [
    "# Databricks Managed MCP Server for Genie, Vector Search, and Custom Functions"
   ]
  },
  {
   "cell_type": "code",
   "execution_count": 0,
   "metadata": {
    "application/vnd.databricks.v1+cell": {
     "cellMetadata": {
      "byteLimit": 2048000,
      "rowLimit": 10000
     },
     "inputWidgets": {},
     "nuid": "ca8a6ce8-d5b0-4bb0-b488-983ec5ce01d6",
     "showTitle": false,
     "tableResultSettingsMap": {},
     "title": ""
    },
    "jupyter": {
     "outputs_hidden": true
    }
   },
   "outputs": [
    {
     "output_type": "stream",
     "name": "stdout",
     "output_type": "stream",
     "text": [
      "Requirement already satisfied: mcp>=1.9 in /local_disk0/.ephemeral_nfs/envs/pythonEnv-595ff3bd-7556-409b-90da-cd388c1dc970/lib/python3.11/site-packages (1.11.0)\nRequirement already satisfied: mlflow>=3.1.0 in /local_disk0/.ephemeral_nfs/envs/pythonEnv-595ff3bd-7556-409b-90da-cd388c1dc970/lib/python3.11/site-packages (3.1.1)\nRequirement already satisfied: databricks-agents>=1.0.0 in /local_disk0/.ephemeral_nfs/envs/pythonEnv-595ff3bd-7556-409b-90da-cd388c1dc970/lib/python3.11/site-packages (1.1.0)\nRequirement already satisfied: databricks-mcp in /local_disk0/.ephemeral_nfs/envs/pythonEnv-595ff3bd-7556-409b-90da-cd388c1dc970/lib/python3.11/site-packages (0.2.0)\nRequirement already satisfied: databricks_ai_bridge in /local_disk0/.ephemeral_nfs/envs/pythonEnv-595ff3bd-7556-409b-90da-cd388c1dc970/lib/python3.11/site-packages (0.6.0)\nRequirement already satisfied: databricks-sdk[openai] in /local_disk0/.ephemeral_nfs/envs/pythonEnv-595ff3bd-7556-409b-90da-cd388c1dc970/lib/python3.11/site-packages (0.55.0)\nCollecting databricks-sdk[openai]\n  Using cached databricks_sdk-0.58.0-py3-none-any.whl.metadata (39 kB)\nRequirement already satisfied: anyio>=4.5 in /local_disk0/.ephemeral_nfs/envs/pythonEnv-595ff3bd-7556-409b-90da-cd388c1dc970/lib/python3.11/site-packages (from mcp>=1.9) (4.9.0)\nRequirement already satisfied: httpx-sse>=0.4 in /local_disk0/.ephemeral_nfs/envs/pythonEnv-595ff3bd-7556-409b-90da-cd388c1dc970/lib/python3.11/site-packages (from mcp>=1.9) (0.4.1)\nRequirement already satisfied: httpx>=0.27 in /local_disk0/.ephemeral_nfs/envs/pythonEnv-595ff3bd-7556-409b-90da-cd388c1dc970/lib/python3.11/site-packages (from mcp>=1.9) (0.28.1)\nRequirement already satisfied: jsonschema>=4.20.0 in /local_disk0/.ephemeral_nfs/envs/pythonEnv-595ff3bd-7556-409b-90da-cd388c1dc970/lib/python3.11/site-packages (from mcp>=1.9) (4.24.0)\nRequirement already satisfied: pydantic-settings>=2.5.2 in /local_disk0/.ephemeral_nfs/envs/pythonEnv-595ff3bd-7556-409b-90da-cd388c1dc970/lib/python3.11/site-packages (from mcp>=1.9) (2.10.1)\nRequirement already satisfied: pydantic<3.0.0,>=2.8.0 in /local_disk0/.ephemeral_nfs/envs/pythonEnv-595ff3bd-7556-409b-90da-cd388c1dc970/lib/python3.11/site-packages (from mcp>=1.9) (2.11.7)\nRequirement already satisfied: python-multipart>=0.0.9 in /local_disk0/.ephemeral_nfs/envs/pythonEnv-595ff3bd-7556-409b-90da-cd388c1dc970/lib/python3.11/site-packages (from mcp>=1.9) (0.0.20)\nRequirement already satisfied: sse-starlette>=1.6.1 in /local_disk0/.ephemeral_nfs/envs/pythonEnv-595ff3bd-7556-409b-90da-cd388c1dc970/lib/python3.11/site-packages (from mcp>=1.9) (2.4.1)\nRequirement already satisfied: starlette>=0.27 in /local_disk0/.ephemeral_nfs/envs/pythonEnv-595ff3bd-7556-409b-90da-cd388c1dc970/lib/python3.11/site-packages (from mcp>=1.9) (0.47.1)\nRequirement already satisfied: uvicorn>=0.23.1 in /local_disk0/.ephemeral_nfs/envs/pythonEnv-595ff3bd-7556-409b-90da-cd388c1dc970/lib/python3.11/site-packages (from mcp>=1.9) (0.35.0)\nRequirement already satisfied: requests<3,>=2.28.1 in /databricks/python3/lib/python3.11/site-packages (from databricks-sdk[openai]) (2.31.0)\nRequirement already satisfied: google-auth~=2.0 in /databricks/python3/lib/python3.11/site-packages (from databricks-sdk[openai]) (2.35.0)\nRequirement already satisfied: openai in /local_disk0/.ephemeral_nfs/envs/pythonEnv-595ff3bd-7556-409b-90da-cd388c1dc970/lib/python3.11/site-packages (from databricks-sdk[openai]) (1.95.1)\nRequirement already satisfied: langchain-openai in /local_disk0/.ephemeral_nfs/envs/pythonEnv-595ff3bd-7556-409b-90da-cd388c1dc970/lib/python3.11/site-packages (from databricks-sdk[openai]) (0.3.28)\nRequirement already satisfied: mlflow-skinny==3.1.1 in /local_disk0/.ephemeral_nfs/envs/pythonEnv-595ff3bd-7556-409b-90da-cd388c1dc970/lib/python3.11/site-packages (from mlflow>=3.1.0) (3.1.1)\nRequirement already satisfied: Flask<4 in /local_disk0/.ephemeral_nfs/envs/pythonEnv-595ff3bd-7556-409b-90da-cd388c1dc970/lib/python3.11/site-packages (from mlflow>=3.1.0) (3.1.1)\nRequirement already satisfied: alembic!=1.10.0,<2 in /local_disk0/.ephemeral_nfs/envs/pythonEnv-595ff3bd-7556-409b-90da-cd388c1dc970/lib/python3.11/site-packages (from mlflow>=3.1.0) (1.16.4)\nRequirement already satisfied: docker<8,>=4.0.0 in /local_disk0/.ephemeral_nfs/envs/pythonEnv-595ff3bd-7556-409b-90da-cd388c1dc970/lib/python3.11/site-packages (from mlflow>=3.1.0) (7.1.0)\nRequirement already satisfied: graphene<4 in /local_disk0/.ephemeral_nfs/envs/pythonEnv-595ff3bd-7556-409b-90da-cd388c1dc970/lib/python3.11/site-packages (from mlflow>=3.1.0) (3.4.3)\nRequirement already satisfied: gunicorn<24 in /local_disk0/.ephemeral_nfs/envs/pythonEnv-595ff3bd-7556-409b-90da-cd388c1dc970/lib/python3.11/site-packages (from mlflow>=3.1.0) (23.0.0)\nRequirement already satisfied: matplotlib<4 in /databricks/python3/lib/python3.11/site-packages (from mlflow>=3.1.0) (3.7.2)\nRequirement already satisfied: numpy<3 in /databricks/python3/lib/python3.11/site-packages (from mlflow>=3.1.0) (1.23.5)\nRequirement already satisfied: pandas<3 in /databricks/python3/lib/python3.11/site-packages (from mlflow>=3.1.0) (1.5.3)\nRequirement already satisfied: pyarrow<21,>=4.0.0 in /databricks/python3/lib/python3.11/site-packages (from mlflow>=3.1.0) (14.0.1)\nRequirement already satisfied: scikit-learn<2 in /databricks/python3/lib/python3.11/site-packages (from mlflow>=3.1.0) (1.3.0)\nRequirement already satisfied: scipy<2 in /databricks/python3/lib/python3.11/site-packages (from mlflow>=3.1.0) (1.11.1)\nRequirement already satisfied: sqlalchemy<3,>=1.4.0 in /local_disk0/.ephemeral_nfs/envs/pythonEnv-595ff3bd-7556-409b-90da-cd388c1dc970/lib/python3.11/site-packages (from mlflow>=3.1.0) (2.0.41)\nRequirement already satisfied: cachetools<7,>=5.0.0 in /databricks/python3/lib/python3.11/site-packages (from mlflow-skinny==3.1.1->mlflow>=3.1.0) (5.5.0)\nRequirement already satisfied: click<9,>=7.0 in /local_disk0/.ephemeral_nfs/envs/pythonEnv-595ff3bd-7556-409b-90da-cd388c1dc970/lib/python3.11/site-packages (from mlflow-skinny==3.1.1->mlflow>=3.1.0) (8.2.1)\nRequirement already satisfied: cloudpickle<4 in /databricks/python3/lib/python3.11/site-packages (from mlflow-skinny==3.1.1->mlflow>=3.1.0) (3.0.0)\nRequirement already satisfied: fastapi<1 in /local_disk0/.ephemeral_nfs/envs/pythonEnv-595ff3bd-7556-409b-90da-cd388c1dc970/lib/python3.11/site-packages (from mlflow-skinny==3.1.1->mlflow>=3.1.0) (0.116.1)\nRequirement already satisfied: gitpython<4,>=3.1.9 in /databricks/python3/lib/python3.11/site-packages (from mlflow-skinny==3.1.1->mlflow>=3.1.0) (3.1.43)\nRequirement already satisfied: importlib_metadata!=4.7.0,<9,>=3.7.0 in /databricks/python3/lib/python3.11/site-packages (from mlflow-skinny==3.1.1->mlflow>=3.1.0) (6.0.0)\nRequirement already satisfied: opentelemetry-api<3,>=1.9.0 in /local_disk0/.ephemeral_nfs/envs/pythonEnv-595ff3bd-7556-409b-90da-cd388c1dc970/lib/python3.11/site-packages (from mlflow-skinny==3.1.1->mlflow>=3.1.0) (1.35.0)\nRequirement already satisfied: opentelemetry-sdk<3,>=1.9.0 in /local_disk0/.ephemeral_nfs/envs/pythonEnv-595ff3bd-7556-409b-90da-cd388c1dc970/lib/python3.11/site-packages (from mlflow-skinny==3.1.1->mlflow>=3.1.0) (1.35.0)\nRequirement already satisfied: packaging<26 in /databricks/python3/lib/python3.11/site-packages (from mlflow-skinny==3.1.1->mlflow>=3.1.0) (23.2)\nRequirement already satisfied: protobuf<7,>=3.12.0 in /databricks/python3/lib/python3.11/site-packages (from mlflow-skinny==3.1.1->mlflow>=3.1.0) (5.29.3)\nRequirement already satisfied: pyyaml<7,>=5.1 in /databricks/python3/lib/python3.11/site-packages (from mlflow-skinny==3.1.1->mlflow>=3.1.0) (6.0)\nRequirement already satisfied: sqlparse<1,>=0.4.0 in /databricks/python3/lib/python3.11/site-packages (from mlflow-skinny==3.1.1->mlflow>=3.1.0) (0.5.1)\nRequirement already satisfied: typing-extensions<5,>=4.0.0 in /local_disk0/.ephemeral_nfs/envs/pythonEnv-595ff3bd-7556-409b-90da-cd388c1dc970/lib/python3.11/site-packages (from mlflow-skinny==3.1.1->mlflow>=3.1.0) (4.14.1)\nRequirement already satisfied: databricks-connect in /databricks/python3/lib/python3.11/site-packages (from databricks-agents>=1.0.0) (15.4.5)\nRequirement already satisfied: dataclasses-json in /local_disk0/.ephemeral_nfs/envs/pythonEnv-595ff3bd-7556-409b-90da-cd388c1dc970/lib/python3.11/site-packages (from databricks-agents>=1.0.0) (0.6.7)\nINFO: pip is looking at multiple versions of databricks-agents to determine which version is compatible with other requirements. This could take a while.\nCollecting databricks-agents>=1.0.0\n  Using cached databricks_agents-1.1.0-py3-none-any.whl.metadata (3.5 kB)\n  Using cached databricks_agents-1.0.1-py3-none-any.whl.metadata (3.6 kB)\n  Using cached databricks_agents-1.0.0-py3-none-any.whl.metadata (3.6 kB)\nCollecting mlflow-skinny==3.1.1 (from mlflow>=3.1.0)\n  Using cached mlflow_skinny-3.1.1-py3-none-any.whl.metadata (30 kB)\nINFO: pip is still looking at multiple versions of databricks-agents to determine which version is compatible with other requirements. This could take a while.\nCollecting mlflow>=3.1.0\n  Using cached mlflow-3.1.1-py3-none-any.whl.metadata (29 kB)\nINFO: This is taking longer than usual. You might need to provide the dependency resolver with stricter constraints to reduce runtime. See https://pip.pypa.io/warnings/backtracking for guidance. If you want to abort this run, press Ctrl + C.\nCollecting databricks-sdk[openai]\n  Using cached databricks_sdk-0.57.0-py3-none-any.whl.metadata (39 kB)\n  Using cached databricks_sdk-0.56.0-py3-none-any.whl.metadata (39 kB)\nRequirement already satisfied: jinja2>=3.0.0 in /local_disk0/.ephemeral_nfs/envs/pythonEnv-595ff3bd-7556-409b-90da-cd388c1dc970/lib/python3.11/site-packages (from databricks-agents>=1.0.0) (3.1.6)\nRequirement already satisfied: tenacity>=8.5 in /local_disk0/.ephemeral_nfs/envs/pythonEnv-595ff3bd-7556-409b-90da-cd388c1dc970/lib/python3.11/site-packages (from databricks-agents>=1.0.0) (9.1.2)\nRequirement already satisfied: tiktoken>=0.8.0 in /local_disk0/.ephemeral_nfs/envs/pythonEnv-595ff3bd-7556-409b-90da-cd388c1dc970/lib/python3.11/site-packages (from databricks-agents>=1.0.0) (0.9.0)\nRequirement already satisfied: tqdm in /local_disk0/.ephemeral_nfs/envs/pythonEnv-595ff3bd-7556-409b-90da-cd388c1dc970/lib/python3.11/site-packages (from databricks-agents>=1.0.0) (4.67.1)\nRequirement already satisfied: urllib3>=2.0 in /local_disk0/.ephemeral_nfs/envs/pythonEnv-595ff3bd-7556-409b-90da-cd388c1dc970/lib/python3.11/site-packages (from databricks-agents>=1.0.0) (2.0.7)\nRequirement already satisfied: tabulate>=0.9.0 in /local_disk0/.ephemeral_nfs/envs/pythonEnv-595ff3bd-7556-409b-90da-cd388c1dc970/lib/python3.11/site-packages (from databricks_ai_bridge) (0.9.0)\nRequirement already satisfied: Mako in /local_disk0/.ephemeral_nfs/envs/pythonEnv-595ff3bd-7556-409b-90da-cd388c1dc970/lib/python3.11/site-packages (from alembic!=1.10.0,<2->mlflow>=3.1.0) (1.3.10)\nRequirement already satisfied: idna>=2.8 in /databricks/python3/lib/python3.11/site-packages (from anyio>=4.5->mcp>=1.9) (3.4)\nRequirement already satisfied: sniffio>=1.1 in /local_disk0/.ephemeral_nfs/envs/pythonEnv-595ff3bd-7556-409b-90da-cd388c1dc970/lib/python3.11/site-packages (from anyio>=4.5->mcp>=1.9) (1.3.1)\nRequirement already satisfied: blinker>=1.9.0 in /local_disk0/.ephemeral_nfs/envs/pythonEnv-595ff3bd-7556-409b-90da-cd388c1dc970/lib/python3.11/site-packages (from Flask<4->mlflow>=3.1.0) (1.9.0)\nRequirement already satisfied: itsdangerous>=2.2.0 in /local_disk0/.ephemeral_nfs/envs/pythonEnv-595ff3bd-7556-409b-90da-cd388c1dc970/lib/python3.11/site-packages (from Flask<4->mlflow>=3.1.0) (2.2.0)\nRequirement already satisfied: markupsafe>=2.1.1 in /local_disk0/.ephemeral_nfs/envs/pythonEnv-595ff3bd-7556-409b-90da-cd388c1dc970/lib/python3.11/site-packages (from Flask<4->mlflow>=3.1.0) (3.0.2)\nRequirement already satisfied: werkzeug>=3.1.0 in /local_disk0/.ephemeral_nfs/envs/pythonEnv-595ff3bd-7556-409b-90da-cd388c1dc970/lib/python3.11/site-packages (from Flask<4->mlflow>=3.1.0) (3.1.3)\nRequirement already satisfied: pyasn1-modules>=0.2.1 in /databricks/python3/lib/python3.11/site-packages (from google-auth~=2.0->databricks-sdk[openai]) (0.2.8)\nRequirement already satisfied: rsa<5,>=3.1.4 in /databricks/python3/lib/python3.11/site-packages (from google-auth~=2.0->databricks-sdk[openai]) (4.9)\nRequirement already satisfied: graphql-core<3.3,>=3.1 in /local_disk0/.ephemeral_nfs/envs/pythonEnv-595ff3bd-7556-409b-90da-cd388c1dc970/lib/python3.11/site-packages (from graphene<4->mlflow>=3.1.0) (3.2.6)\nRequirement already satisfied: graphql-relay<3.3,>=3.1 in /local_disk0/.ephemeral_nfs/envs/pythonEnv-595ff3bd-7556-409b-90da-cd388c1dc970/lib/python3.11/site-packages (from graphene<4->mlflow>=3.1.0) (3.2.0)\nRequirement already satisfied: python-dateutil<3,>=2.7.0 in /databricks/python3/lib/python3.11/site-packages (from graphene<4->mlflow>=3.1.0) (2.8.2)\nRequirement already satisfied: certifi in /databricks/python3/lib/python3.11/site-packages (from httpx>=0.27->mcp>=1.9) (2023.7.22)\nRequirement already satisfied: httpcore==1.* in /local_disk0/.ephemeral_nfs/envs/pythonEnv-595ff3bd-7556-409b-90da-cd388c1dc970/lib/python3.11/site-packages (from httpx>=0.27->mcp>=1.9) (1.0.9)\nRequirement already satisfied: h11>=0.16 in /local_disk0/.ephemeral_nfs/envs/pythonEnv-595ff3bd-7556-409b-90da-cd388c1dc970/lib/python3.11/site-packages (from httpcore==1.*->httpx>=0.27->mcp>=1.9) (0.16.0)\nRequirement already satisfied: attrs>=22.2.0 in /local_disk0/.ephemeral_nfs/envs/pythonEnv-595ff3bd-7556-409b-90da-cd388c1dc970/lib/python3.11/site-packages (from jsonschema>=4.20.0->mcp>=1.9) (25.3.0)\nRequirement already satisfied: jsonschema-specifications>=2023.03.6 in /local_disk0/.ephemeral_nfs/envs/pythonEnv-595ff3bd-7556-409b-90da-cd388c1dc970/lib/python3.11/site-packages (from jsonschema>=4.20.0->mcp>=1.9) (2025.4.1)\nRequirement already satisfied: referencing>=0.28.4 in /local_disk0/.ephemeral_nfs/envs/pythonEnv-595ff3bd-7556-409b-90da-cd388c1dc970/lib/python3.11/site-packages (from jsonschema>=4.20.0->mcp>=1.9) (0.36.2)\nRequirement already satisfied: rpds-py>=0.7.1 in /local_disk0/.ephemeral_nfs/envs/pythonEnv-595ff3bd-7556-409b-90da-cd388c1dc970/lib/python3.11/site-packages (from jsonschema>=4.20.0->mcp>=1.9) (0.26.0)\nRequirement already satisfied: contourpy>=1.0.1 in /databricks/python3/lib/python3.11/site-packages (from matplotlib<4->mlflow>=3.1.0) (1.0.5)\nRequirement already satisfied: cycler>=0.10 in /databricks/python3/lib/python3.11/site-packages (from matplotlib<4->mlflow>=3.1.0) (0.11.0)\nRequirement already satisfied: fonttools>=4.22.0 in /databricks/python3/lib/python3.11/site-packages (from matplotlib<4->mlflow>=3.1.0) (4.25.0)\nRequirement already satisfied: kiwisolver>=1.0.1 in /databricks/python3/lib/python3.11/site-packages (from matplotlib<4->mlflow>=3.1.0) (1.4.4)\nRequirement already satisfied: pillow>=6.2.0 in /databricks/python3/lib/python3.11/site-packages (from matplotlib<4->mlflow>=3.1.0) (10.3.0)\nRequirement already satisfied: pyparsing<3.1,>=2.3.1 in /databricks/python3/lib/python3.11/site-packages (from matplotlib<4->mlflow>=3.1.0) (3.0.9)\nRequirement already satisfied: azure-storage-file-datalake>12 in /databricks/python3/lib/python3.11/site-packages (from mlflow-skinny[databricks]<4.0.0,>=3.1.0->databricks-agents>=1.0.0) (12.14.0)\nRequirement already satisfied: google-cloud-storage>=1.30.0 in /databricks/python3/lib/python3.11/site-packages (from mlflow-skinny[databricks]<4.0.0,>=3.1.0->databricks-agents>=1.0.0) (2.18.2)\nRequirement already satisfied: boto3>1 in /databricks/python3/lib/python3.11/site-packages (from mlflow-skinny[databricks]<4.0.0,>=3.1.0->databricks-agents>=1.0.0) (1.34.39)\nRequirement already satisfied: botocore in /databricks/python3/lib/python3.11/site-packages (from mlflow-skinny[databricks]<4.0.0,>=3.1.0->databricks-agents>=1.0.0) (1.34.39)\nRequirement already satisfied: pytz>=2020.1 in /databricks/python3/lib/python3.11/site-packages (from pandas<3->mlflow>=3.1.0) (2022.7)\nRequirement already satisfied: annotated-types>=0.6.0 in /local_disk0/.ephemeral_nfs/envs/pythonEnv-595ff3bd-7556-409b-90da-cd388c1dc970/lib/python3.11/site-packages (from pydantic<3.0.0,>=2.8.0->mcp>=1.9) (0.7.0)\nRequirement already satisfied: pydantic-core==2.33.2 in /local_disk0/.ephemeral_nfs/envs/pythonEnv-595ff3bd-7556-409b-90da-cd388c1dc970/lib/python3.11/site-packages (from pydantic<3.0.0,>=2.8.0->mcp>=1.9) (2.33.2)\nRequirement already satisfied: typing-inspection>=0.4.0 in /local_disk0/.ephemeral_nfs/envs/pythonEnv-595ff3bd-7556-409b-90da-cd388c1dc970/lib/python3.11/site-packages (from pydantic<3.0.0,>=2.8.0->mcp>=1.9) (0.4.1)\nRequirement already satisfied: python-dotenv>=0.21.0 in /local_disk0/.ephemeral_nfs/envs/pythonEnv-595ff3bd-7556-409b-90da-cd388c1dc970/lib/python3.11/site-packages (from pydantic-settings>=2.5.2->mcp>=1.9) (1.1.1)\nRequirement already satisfied: charset-normalizer<4,>=2 in /databricks/python3/lib/python3.11/site-packages (from requests<3,>=2.28.1->databricks-sdk[openai]) (2.0.4)\nRequirement already satisfied: joblib>=1.1.1 in /databricks/python3/lib/python3.11/site-packages (from scikit-learn<2->mlflow>=3.1.0) (1.2.0)\nRequirement already satisfied: threadpoolctl>=2.0.0 in /databricks/python3/lib/python3.11/site-packages (from scikit-learn<2->mlflow>=3.1.0) (2.2.0)\nRequirement already satisfied: greenlet>=1 in /local_disk0/.ephemeral_nfs/envs/pythonEnv-595ff3bd-7556-409b-90da-cd388c1dc970/lib/python3.11/site-packages (from sqlalchemy<3,>=1.4.0->mlflow>=3.1.0) (3.2.3)\nRequirement already satisfied: regex>=2022.1.18 in /local_disk0/.ephemeral_nfs/envs/pythonEnv-595ff3bd-7556-409b-90da-cd388c1dc970/lib/python3.11/site-packages (from tiktoken>=0.8.0->databricks-agents>=1.0.0) (2024.11.6)\nRequirement already satisfied: googleapis-common-protos>=1.56.4 in /databricks/python3/lib/python3.11/site-packages (from databricks-connect->databricks-agents>=1.0.0) (1.65.0)\nRequirement already satisfied: grpcio-status>=1.59.3 in /databricks/python3/lib/python3.11/site-packages (from databricks-connect->databricks-agents>=1.0.0) (1.69.0)\nRequirement already satisfied: grpcio>=1.59.3 in /databricks/python3/lib/python3.11/site-packages (from databricks-connect->databricks-agents>=1.0.0) (1.69.0)\nRequirement already satisfied: py4j==0.10.9.7 in /databricks/python3/lib/python3.11/site-packages (from databricks-connect->databricks-agents>=1.0.0) (0.10.9.7)\nRequirement already satisfied: setuptools>=68.0.0 in /databricks/python3/lib/python3.11/site-packages (from databricks-connect->databricks-agents>=1.0.0) (75.1.0)\nRequirement already satisfied: six in /usr/lib/python3/dist-packages (from databricks-connect->databricks-agents>=1.0.0) (1.16.0)\nRequirement already satisfied: marshmallow<4.0.0,>=3.18.0 in /local_disk0/.ephemeral_nfs/envs/pythonEnv-595ff3bd-7556-409b-90da-cd388c1dc970/lib/python3.11/site-packages (from dataclasses-json->databricks-agents>=1.0.0) (3.26.1)\nRequirement already satisfied: typing-inspect<1,>=0.4.0 in /local_disk0/.ephemeral_nfs/envs/pythonEnv-595ff3bd-7556-409b-90da-cd388c1dc970/lib/python3.11/site-packages (from dataclasses-json->databricks-agents>=1.0.0) (0.9.0)\nRequirement already satisfied: langchain-core<1.0.0,>=0.3.68 in /local_disk0/.ephemeral_nfs/envs/pythonEnv-595ff3bd-7556-409b-90da-cd388c1dc970/lib/python3.11/site-packages (from langchain-openai->databricks-sdk[openai]) (0.3.68)\nRequirement already satisfied: distro<2,>=1.7.0 in /usr/lib/python3/dist-packages (from openai->databricks-sdk[openai]) (1.7.0)\nRequirement already satisfied: jiter<1,>=0.4.0 in /local_disk0/.ephemeral_nfs/envs/pythonEnv-595ff3bd-7556-409b-90da-cd388c1dc970/lib/python3.11/site-packages (from openai->databricks-sdk[openai]) (0.10.0)\nRequirement already satisfied: azure-core<2.0.0,>=1.28.0 in /databricks/python3/lib/python3.11/site-packages (from azure-storage-file-datalake>12->mlflow-skinny[databricks]<4.0.0,>=3.1.0->databricks-agents>=1.0.0) (1.32.0)\nRequirement already satisfied: azure-storage-blob<13.0.0,>=12.19.0 in /databricks/python3/lib/python3.11/site-packages (from azure-storage-file-datalake>12->mlflow-skinny[databricks]<4.0.0,>=3.1.0->databricks-agents>=1.0.0) (12.19.1)\nRequirement already satisfied: isodate>=0.6.1 in /databricks/python3/lib/python3.11/site-packages (from azure-storage-file-datalake>12->mlflow-skinny[databricks]<4.0.0,>=3.1.0->databricks-agents>=1.0.0) (0.7.2)\nRequirement already satisfied: jmespath<2.0.0,>=0.7.1 in /databricks/python3/lib/python3.11/site-packages (from boto3>1->mlflow-skinny[databricks]<4.0.0,>=3.1.0->databricks-agents>=1.0.0) (0.10.0)\nRequirement already satisfied: s3transfer<0.11.0,>=0.10.0 in /databricks/python3/lib/python3.11/site-packages (from boto3>1->mlflow-skinny[databricks]<4.0.0,>=3.1.0->databricks-agents>=1.0.0) (0.10.3)\nRequirement already satisfied: gitdb<5,>=4.0.1 in /databricks/python3/lib/python3.11/site-packages (from gitpython<4,>=3.1.9->mlflow-skinny==3.1.1->mlflow>=3.1.0) (4.0.11)\nRequirement already satisfied: google-api-core<3.0.0dev,>=2.15.0 in /local_disk0/.ephemeral_nfs/envs/pythonEnv-595ff3bd-7556-409b-90da-cd388c1dc970/lib/python3.11/site-packages (from google-cloud-storage>=1.30.0->mlflow-skinny[databricks]<4.0.0,>=3.1.0->databricks-agents>=1.0.0) (2.25.1)\nRequirement already satisfied: google-cloud-core<3.0dev,>=2.3.0 in /databricks/python3/lib/python3.11/site-packages (from google-cloud-storage>=1.30.0->mlflow-skinny[databricks]<4.0.0,>=3.1.0->databricks-agents>=1.0.0) (2.4.1)\nRequirement already satisfied: google-resumable-media>=2.7.2 in /databricks/python3/lib/python3.11/site-packages (from google-cloud-storage>=1.30.0->mlflow-skinny[databricks]<4.0.0,>=3.1.0->databricks-agents>=1.0.0) (2.7.2)\nRequirement already satisfied: google-crc32c<2.0dev,>=1.0 in /databricks/python3/lib/python3.11/site-packages (from google-cloud-storage>=1.30.0->mlflow-skinny[databricks]<4.0.0,>=3.1.0->databricks-agents>=1.0.0) (1.6.0)\nRequirement already satisfied: zipp>=0.5 in /databricks/python3/lib/python3.11/site-packages (from importlib_metadata!=4.7.0,<9,>=3.7.0->mlflow-skinny==3.1.1->mlflow>=3.1.0) (3.11.0)\nRequirement already satisfied: langsmith>=0.3.45 in /local_disk0/.ephemeral_nfs/envs/pythonEnv-595ff3bd-7556-409b-90da-cd388c1dc970/lib/python3.11/site-packages (from langchain-core<1.0.0,>=0.3.68->langchain-openai->databricks-sdk[openai]) (0.4.5)\nRequirement already satisfied: jsonpatch<2.0,>=1.33 in /local_disk0/.ephemeral_nfs/envs/pythonEnv-595ff3bd-7556-409b-90da-cd388c1dc970/lib/python3.11/site-packages (from langchain-core<1.0.0,>=0.3.68->langchain-openai->databricks-sdk[openai]) (1.33)\nRequirement already satisfied: opentelemetry-semantic-conventions==0.56b0 in /local_disk0/.ephemeral_nfs/envs/pythonEnv-595ff3bd-7556-409b-90da-cd388c1dc970/lib/python3.11/site-packages (from opentelemetry-sdk<3,>=1.9.0->mlflow-skinny==3.1.1->mlflow>=3.1.0) (0.56b0)\nRequirement already satisfied: pyasn1<0.5.0,>=0.4.6 in /databricks/python3/lib/python3.11/site-packages (from pyasn1-modules>=0.2.1->google-auth~=2.0->databricks-sdk[openai]) (0.4.8)\nRequirement already satisfied: mypy-extensions>=0.3.0 in /databricks/python3/lib/python3.11/site-packages (from typing-inspect<1,>=0.4.0->dataclasses-json->databricks-agents>=1.0.0) (0.4.3)\nRequirement already satisfied: cryptography>=2.1.4 in /databricks/python3/lib/python3.11/site-packages (from azure-storage-blob<13.0.0,>=12.19.0->azure-storage-file-datalake>12->mlflow-skinny[databricks]<4.0.0,>=3.1.0->databricks-agents>=1.0.0) (41.0.3)\nRequirement already satisfied: smmap<6,>=3.0.1 in /databricks/python3/lib/python3.11/site-packages (from gitdb<5,>=4.0.1->gitpython<4,>=3.1.9->mlflow-skinny==3.1.1->mlflow>=3.1.0) (5.0.1)\nRequirement already satisfied: proto-plus<2.0.0,>=1.22.3 in /databricks/python3/lib/python3.11/site-packages (from google-api-core<3.0.0dev,>=2.15.0->google-cloud-storage>=1.30.0->mlflow-skinny[databricks]<4.0.0,>=3.1.0->databricks-agents>=1.0.0) (1.25.0)\nRequirement already satisfied: jsonpointer>=1.9 in /local_disk0/.ephemeral_nfs/envs/pythonEnv-595ff3bd-7556-409b-90da-cd388c1dc970/lib/python3.11/site-packages (from jsonpatch<2.0,>=1.33->langchain-core<1.0.0,>=0.3.68->langchain-openai->databricks-sdk[openai]) (3.0.0)\nRequirement already satisfied: orjson<4.0.0,>=3.9.14 in /local_disk0/.ephemeral_nfs/envs/pythonEnv-595ff3bd-7556-409b-90da-cd388c1dc970/lib/python3.11/site-packages (from langsmith>=0.3.45->langchain-core<1.0.0,>=0.3.68->langchain-openai->databricks-sdk[openai]) (3.10.18)\nRequirement already satisfied: requests-toolbelt<2.0.0,>=1.0.0 in /local_disk0/.ephemeral_nfs/envs/pythonEnv-595ff3bd-7556-409b-90da-cd388c1dc970/lib/python3.11/site-packages (from langsmith>=0.3.45->langchain-core<1.0.0,>=0.3.68->langchain-openai->databricks-sdk[openai]) (1.0.0)\nRequirement already satisfied: zstandard<0.24.0,>=0.23.0 in /databricks/python3/lib/python3.11/site-packages (from langsmith>=0.3.45->langchain-core<1.0.0,>=0.3.68->langchain-openai->databricks-sdk[openai]) (0.23.0)\nRequirement already satisfied: cffi>=1.12 in /databricks/python3/lib/python3.11/site-packages (from cryptography>=2.1.4->azure-storage-blob<13.0.0,>=12.19.0->azure-storage-file-datalake>12->mlflow-skinny[databricks]<4.0.0,>=3.1.0->databricks-agents>=1.0.0) (1.15.1)\nRequirement already satisfied: pycparser in /databricks/python3/lib/python3.11/site-packages (from cffi>=1.12->cryptography>=2.1.4->azure-storage-blob<13.0.0,>=12.19.0->azure-storage-file-datalake>12->mlflow-skinny[databricks]<4.0.0,>=3.1.0->databricks-agents>=1.0.0) (2.21)\n\u001B[43mNote: you may need to restart the kernel using %restart_python or dbutils.library.restartPython() to use updated packages.\u001B[0m\n"
     ]
    }
   ],
   "source": [
    "%pip install -U \"mcp>=1.9\" \"databricks-sdk[openai]\" \"mlflow>=3.1.0\" \"databricks-agents>=1.0.0\" \"databricks-mcp\" databricks_ai_bridge\n",
    "\n",
    "dbutils.library.restartPython()"
   ]
  },
  {
   "cell_type": "markdown",
   "metadata": {
    "application/vnd.databricks.v1+cell": {
     "cellMetadata": {},
     "inputWidgets": {},
     "nuid": "77b7f375-bdf6-4ec2-9e13-31b663256bc1",
     "showTitle": false,
     "tableResultSettingsMap": {},
     "title": ""
    }
   },
   "source": [
    "## MCP with Genie"
   ]
  },
  {
   "cell_type": "code",
   "execution_count": 0,
   "metadata": {
    "application/vnd.databricks.v1+cell": {
     "cellMetadata": {
      "byteLimit": 2048000,
      "rowLimit": 10000
     },
     "inputWidgets": {},
     "nuid": "6e2e57c3-d473-41ce-aea3-da9facb9ae1c",
     "showTitle": false,
     "tableResultSettingsMap": {},
     "title": ""
    }
   },
   "outputs": [
    {
     "output_type": "execute_result",
     "data": {
      "text/plain": [
       "([['cancelled'], ['pending'], ['processing'], ['completed']],)"
      ]
     },
     "execution_count": 34,
     "metadata": {},
     "output_type": "execute_result"
    }
   ],
   "source": [
    "space_id = \"01f05e591d711e81bd981dae9784abbd\"\n",
    "\n",
    "# Initialize the Databricks MCP client with the specified server URL and workspace client\n",
    "mcp_client = DatabricksMCPClient(\n",
    "    server_url=f\"https:///adb-984752964297111.11.azuredatabricks.net/api/2.0/mcp/genie/{space_id}\",\n",
    "    workspace_client=workspace_client,\n",
    ")\n",
    "\n",
    "# Access the genie client from the MCP client\n",
    "genie = mcp_client.client.genie\n",
    "\n",
    "# Start a conversation with the genie and wait for a response\n",
    "response = genie.start_conversation_and_wait(\n",
    "    space_id=space_id,\n",
    "    content=\"what are different type of order status?\",\n",
    ")\n",
    "\n",
    "# Retrieve the query result from the message attachment\n",
    "genie.get_message_attachment_query_result(\n",
    "    space_id=space_id,\n",
    "    message_id=response.message_id,\n",
    "    conversation_id=response.conversation_id,\n",
    "    attachment_id=response.attachments[0].attachment_id,\n",
    ").statement_response.result.data_array,"
   ]
  },
  {
   "cell_type": "markdown",
   "metadata": {
    "application/vnd.databricks.v1+cell": {
     "cellMetadata": {},
     "inputWidgets": {},
     "nuid": "deda37af-5db1-4d1f-befe-55a457c8bbc4",
     "showTitle": false,
     "tableResultSettingsMap": {},
     "title": ""
    }
   },
   "source": [
    "## MCP with Databricks Vector Search"
   ]
  },
  {
   "cell_type": "code",
   "execution_count": 0,
   "metadata": {
    "application/vnd.databricks.v1+cell": {
     "cellMetadata": {
      "byteLimit": 2048000,
      "rowLimit": 10000
     },
     "inputWidgets": {},
     "nuid": "1a710db2-2013-4fb4-804f-1f39d801e40a",
     "showTitle": false,
     "tableResultSettingsMap": {},
     "title": ""
    }
   },
   "outputs": [
    {
     "output_type": "execute_result",
     "data": {
      "text/plain": [
       "[['.', 0.002849468],\n",
       " ['around Retrieval Augmented Generation (RAG), today, we’re excited to announce the public preview of Databricks Vector Search',\n",
       "  0.0023659014],\n",
       " ['. We announced the private preview to a limited set of customers at the Data + AI Summit in June, which is now available to all our customers. Databricks Vector Search enables developers to improve the accuracy of their Retrieval Augmented Generation (RAG) and generative AI applications through similarity search over unstructured documents such as PDFs, Office Documents, Wikis, and more. Vector Search is part of the Databricks Data Intelligence Platform, making it easy for your RAG and Generative AI applications to use the proprietary data stored in your Lakehouse in a fast and secure manner and deliver accurate responses.',\n",
       "  0.0018597686],\n",
       " ['What is vector search?\\nVector search is a method used in information retrieval and Retrieval Augmented Generation (RAG) applications to find documents or records based on their similarity to a query. Vector search is why you can type a plain language query such as “blue shoes that are good for friday night” and get back relevant results.',\n",
       "  0.0018258228],\n",
       " ['We designed Databricks Vector Search to be fast, secure and easy to use.',\n",
       "  0.0018255688],\n",
       " ['160 Spear Street, 15th Floor\\nSan Francisco, CA 94105\\n1-866-330-0121See Careers\\nat Databricks\\n© Databricks 2025. All rights reserved. Apache, Apache Spark, Spark, the Spark Logo, Apache Iceberg, Iceberg, and the Apache Iceberg logo are trademarks of the Apache Software Foundation.\\nPrivacy Notice|Terms of Use|Modern Slavery Statement|California Privacy|Your Privacy Choices',\n",
       "  0.0017827746],\n",
       " ['Next Steps\\nGet started by reading our documentation\\xa0and specifically creating a Vector Search index\\nRead more about Vector Search pricing\\nStarting deploying your own RAG application (demo)\\nSign–up for a Databricks Generative AI Webinar\\nLooking to solve Generative AI use cases? Compete in the Databricks & AWS Generative AI Hackathon! Sign up\\xa0here\\nGenerative AI Engineer Learning Pathway: take self-paced, on-demand and instructor-led courses on Generative AI\\nRead the summary announcements made earlier this week',\n",
       "  0.001777108],\n",
       " [\"Keep up with usSubscribeRecommended for youShare this postNever miss a Databricks postSubscribe to the categories you care about and get the latest posts delivered to your inboxSign upWhat's next?Data EngineeringNovember 25, 2024/9 min readBooting Databricks VMs 7x Faster for Serverless ComputeProductDecember 10, 2024/7 min readBatch Inference on Fine Tuned Llama Models with Mosaic AI Model ServingWhy DatabricksDiscoverFor ExecutivesFor StartupsLakehouse ArchitectureMosaic ResearchCustomersFeaturedSee AllPartnersCloud ProvidersTechnology PartnersData PartnersBuilt on DatabricksConsulting & System IntegratorsC&SI Partner ProgramPartner SolutionsWhy DatabricksDiscoverFor ExecutivesFor StartupsLakehouse ArchitectureMosaic ResearchCustomersFeaturedSee AllPartnersCloud ProvidersTechnology PartnersData PartnersBuilt on DatabricksConsulting & System IntegratorsC&SI Partner ProgramPartner SolutionsProductDatabricks PlatformPlatform OverviewSharingGovernanceArtificial IntelligenceBusiness\",\n",
       "  0.0017532447],\n",
       " ['Step 2. \\xa0After creating a Delta Table with your source data, you select a column in the Delta Table to embed and then select a Model Serving endpoint that is used to generate embeddings for the data. \\xa0\\nThe embedding model can be:\\n\\nA model that you fine-tuned\\nAn off-the-shelf open source model (such as E5, BGE, InstructorXL, etc)\\nA proprietary embedding model available via API (such as OpenAI, Cohere, Anthropic, etc)\\n\\n\\n\\nVector Search also offers advanced modes for customers that prefer to manage their embeddings in a Delta Table or create data ingestion pipelines using REST APIs. \\xa0For examples, please see the Vector Search documentation.\\xa0\\n\\xa0\\nStep 3. Once the index is ready, you can make queries to find relevant vectors for your query. These results can then be sent to your Retrieval Augmented Generation (RAG) application.',\n",
       "  0.0016389369],\n",
       " ['.EventsData + AI SummitData + AI World TourData Intelligence DaysEvent CalendarBlog and PodcastsDatabricks BlogExplore news, product announcements, and moreDatabricks Mosaic Research BlogDiscover the latest in our Gen AI researchData Brew PodcastLet’s talk data!Champions of Data + AI PodcastInsights from data leaders powering innovationGet HelpCustomer SupportDocumentationCommunityDive DeepResource CenterDemo CenterAbout CompanyWho We AreOur TeamDatabricks VenturesContact UsCareersWorking at DatabricksOpen JobsPressAwards and RecognitionNewsroomSecurity and TrustSecurity and TrustReady to get started?Get a DemoLoginContact UsTry DatabricksBlog/Announcements/ArticleIntroducing Databricks Vector Search Public PreviewPublished: December 7, 2023Announcements8 min readby Akhil Gupta, Sergei Tsarev and Eric PeterShare this postKeep up with usSubscribeFollowing the announcement we made yesterday around Retrieval Augmented Generation (RAG), today, we’re excited to announce the public preview',\n",
       "  0.0016268836]]"
      ]
     },
     "execution_count": 165,
     "metadata": {},
     "output_type": "execute_result"
    }
   ],
   "source": [
    "catalog_name = \"mc\"\n",
    "schema_name = \"fidel\"\n",
    "\n",
    "# Initialize the Databricks MCP client with the specified server URL and workspace client\n",
    "mcp_client = DatabricksMCPClient(\n",
    "    server_url=f\"https:///adb-984752964297111.11.azuredatabricks.net/api/2.0/mcp/vector-search/{catalog_name}/{schema_name}\",\n",
    "    workspace_client=workspace_client,\n",
    ")\n",
    "\n",
    "# Query the vector search index with the specified index name and query text\n",
    "mcp_client.client.vector_search_indexes.query_index(\n",
    "    index_name=\"mc.fidel.vs_index\",\n",
    "    query_text=\"RAG\",\n",
    "    columns=[\"page_content_chunk\"],\n",
    ").result.data_array"
   ]
  },
  {
   "cell_type": "markdown",
   "metadata": {
    "application/vnd.databricks.v1+cell": {
     "cellMetadata": {},
     "inputWidgets": {},
     "nuid": "3b301450-fba9-48a1-baae-69e682919932",
     "showTitle": false,
     "tableResultSettingsMap": {},
     "title": ""
    }
   },
   "source": [
    "## MCP with Custom Functions"
   ]
  },
  {
   "cell_type": "code",
   "execution_count": 0,
   "metadata": {
    "application/vnd.databricks.v1+cell": {
     "cellMetadata": {
      "byteLimit": 2048000,
      "rowLimit": 10000
     },
     "inputWidgets": {},
     "nuid": "50a66d3b-522c-4122-af12-faa4b5ce41ef",
     "showTitle": false,
     "tableResultSettingsMap": {
      "0": {
       "dataGridStateBlob": "{\"version\":1,\"tableState\":{\"columnPinning\":{\"left\":[\"#row_number#\"],\"right\":[]},\"columnSizing\":{\"rows\":215},\"columnVisibility\":{}},\"settings\":{\"columns\":{}},\"syncTimestamp\":1752503088143}",
       "filterBlob": null,
       "queryPlanFiltersBlob": null,
       "tableResultIndex": 0
      }
     },
     "title": ""
    }
   },
   "outputs": [],
   "source": [
    "import nest_asyncio\n",
    "import pandas as pd\n",
    "import json\n",
    "from databricks_mcp import DatabricksMCPClient\n",
    "from databricks.sdk import WorkspaceClient\n",
    "\n",
    "workspace_client = WorkspaceClient()\n",
    "mcp_server_url = (\n",
    "    \"https://adb-984752964297111.11.azuredatabricks.net/api/2.0/mcp/functions/system/ai\"\n",
    ")\n",
    "nest_asyncio.apply()\n",
    "\n",
    "code = \"\"\"print(\"Hello, world!\")\"\"\"\n",
    "\n",
    "\n",
    "def test_connect_to_server(code):\n",
    "    mcp_client = DatabricksMCPClient(\n",
    "        server_url=mcp_server_url, workspace_client=workspace_client\n",
    "    )\n",
    "\n",
    "    tools = mcp_client.list_tools()\n",
    "    print(f\"Discovered tools {[t.name for t in tools]}\")\n",
    "\n",
    "    result = mcp_client.call_tool(\"system__ai__python_exec\", {\"code\": code})\n",
    "    return result.content[0].text\n",
    "\n",
    "\n",
    "# display(pd.DataFrame([test_connect_to_server(code)]))\n",
    "\n",
    "result = test_connect_to_server(code)\n",
    "\n",
    "display(pd.DataFrame((json.loads(result))))"
   ]
  }
 ],
 "metadata": {
  "application/vnd.databricks.v1+notebook": {
   "computePreferences": null,
   "dashboards": [],
   "environmentMetadata": {
    "base_environment": "",
    "environment_version": "2"
   },
   "inputWidgetPreferences": null,
   "language": "python",
   "notebookMetadata": {
    "pythonIndentUnit": 2
   },
   "notebookName": "MCP with Genie | Vector Search | Functions",
   "widgets": {}
  },
  "language_info": {
   "name": "python"
  }
 },
 "nbformat": 4,
 "nbformat_minor": 0
}